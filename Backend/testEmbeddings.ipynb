{
 "cells": [
  {
   "cell_type": "code",
   "execution_count": 2,
   "metadata": {},
   "outputs": [
    {
     "name": "stderr",
     "output_type": "stream",
     "text": [
      "/Users/ohamugochukwu/Documents/Oham-Job-Board/jobsite/lib/python3.9/site-packages/sentence_transformers/cross_encoder/CrossEncoder.py:13: TqdmWarning: IProgress not found. Please update jupyter and ipywidgets. See https://ipywidgets.readthedocs.io/en/stable/user_install.html\n",
      "  from tqdm.autonotebook import tqdm, trange\n",
      "/Users/ohamugochukwu/Documents/Oham-Job-Board/jobsite/lib/python3.9/site-packages/transformers/tokenization_utils_base.py:1601: FutureWarning: `clean_up_tokenization_spaces` was not set. It will be set to `True` by default. This behavior will be depracted in transformers v4.45, and will be then set to `False` by default. For more details check this issue: https://github.com/huggingface/transformers/issues/31884\n",
      "  warnings.warn(\n"
     ]
    }
   ],
   "source": [
    "import pandas as pd\n",
    "import numpy as np\n",
    "# from utils import search_query\n",
    "\n",
    "from sentence_transformers import SentenceTransformer\n",
    "import faiss\n",
    "import pickle\n",
    "encoder = SentenceTransformer(\"all-mpnet-base-v2\")"
   ]
  },
  {
   "cell_type": "code",
   "execution_count": 4,
   "metadata": {},
   "outputs": [],
   "source": [
    "queryString = \"\"\"\n",
    "<div><strong>Join Our Team</strong></div><div> </div><div>Oowlish, one of Latin America's rapidly expanding software development companies, is seeking experienced technology professionals to enhance our diverse and vibrant team.</div><div> </div><div>As a valued member of Oowlish, you will collaborate with premier clients from the United States and Europe, contributing to pioneering digital solutions. Our commitment to creating a nurturing work environment is recognized by our certification as a Great Place to Work, where you will have opportunities for professional development, growth, and a chance to make a significant international impact.</div><div> </div><div>We offer the convenience of remote work, allowing you to craft a work-life balance that suits your personal and professional needs. We're looking for candidates who are passionate about technology, proficient in English, and excited to engage in remote collaboration for a worldwide presence.</div><div> </div><div> </div><div>Requirements</div><ul><li>Bachelor´s degree in marketing, business, statistics/analytics  or related field </li><li>3-5 years of work experience in marketing research , statistical or data analysis</li><li>Excellent digital aptitude, significant familiarity with ad ops technology and affiliate tracking and management tolos</li><li>Excellent organizational, communication, presentation and analytical skills</li><li>Experience with analytics systems (Google Analytics, Tableu and Excel), SQL and Data warehouses/data visualization </li><li>Demonstrated understanding of marketing and web Kpi´s (CTR, ROI, CVR, CAC, MAU)</li></ul><div> </div><ul><li> </li></ul><div> </div><div><strong>Benefits &amp; Perks:</strong></div><div> </div><div>Home office;</div><div>Flexible Hours</div><div>Competitive compensation based on experience;</div><div>Career plans to allow for extensive growth in the company;</div><div>International Projects;</div><div>Oowlish English Program (Technical and Conversational);</div><div>Oowlish Fitness with Total Pass;</div><div>Connecting You (Internet allowance);</div><div>Anniversary bonus;</div><div>Wedding gift;</div><div>Pet adoption incentive;</div><div>New baby Oowl bonus;</div><div>Back to School bonus;</div><div>Streaming Subscription;</div><div>PTO Bonus;</div><div>Games and Competitions;</div><div>Enjoy your national Holidays.</div><div> </div><div><strong>You can also apply here:</strong></div><div> </div><div>Website: https://www.oowlish.com/work-with-us/</div><div>LinkedIn: https://www.linkedin.com/company/oowlish/jobs/</div><div>Instagram: https://www.instagram.com/oowlishtechnology/</div><div> </div><div>#LI-LM1</div><div>#LI-CD1</div><div>#LI-EA1</div><div>#LI-TC1</div><div>#LI-ET1</div><div>#LI-TT1</div><div>#LI-JH1</div><div>#LI-DP1</div><div>#LI-LS1</div><div>#LI-AB1</div><div>#LI-KN1</div><div>#LI-SR1</div><div>#LI-JS1</div><div>#LI-FZ1</div><img/>\n",
    "\"\"\""
   ]
  },
  {
   "cell_type": "code",
   "execution_count": 5,
   "metadata": {},
   "outputs": [
    {
     "name": "stdout",
     "output_type": "stream",
     "text": [
      "Job vectors loaded\n",
      "Job ID loaded\n",
      "3304\n",
      "(1, 768)\n"
     ]
    }
   ],
   "source": [
    "\n",
    "# Load the FAISS index\n",
    "# Deserialize the index using pickle\n",
    "with open('jobIndex.pk1', 'rb') as f:\n",
    "    jobIndex = pickle.load(f)\n",
    "    print(\"Job vectors loaded\")\n",
    "\n",
    "with open('jobId.pk1', 'rb') as f:\n",
    "    jobId = pickle.load(f)\n",
    "    # print(jobId)\n",
    "    print(\"Job ID loaded\")\n",
    "\n",
    "# Convert to a numpy array with int32 data type\n",
    "# jobId = np.array(jobId, dtype=np.int32)\n",
    "\n",
    "# Check if all elements are int32\n",
    "all_int32 = all(isinstance(number, np.int64) for number in jobId)\n",
    "# print(all_int32)\n",
    "\n",
    "# Check the shape\n",
    "# print(jobSearch_vec.shape)  # Should output: (1, 768)\n",
    "index = faiss.IndexIDMap(faiss.IndexFlatL2(768))\n",
    "index.add_with_ids(jobIndex, jobId)\n",
    "print(index.ntotal)\n",
    "\n",
    "# SimilarLookUpTable = faiss.IndexFlatL2(jobIndex.shape[1])\n",
    "# SimilarLookUpTable.add(jobIndex)\n",
    "\n",
    "\n",
    "# Encode the search query\n",
    "jobSearch_vec = encoder.encode(queryString)\n",
    "\n",
    "# Reshape the vector to match the expected dimensions\n",
    "jobSearch_vec = jobSearch_vec.reshape((1, -1))  # Shape: (1, 768)\n",
    "print(jobSearch_vec.shape)\n",
    "\n",
    "# dis, Loca = SimilarLookUpTable.search(jobSearch_vec, 15)\n",
    "distance, Location = index.search(jobSearch_vec, 10)"
   ]
  },
  {
   "cell_type": "code",
   "execution_count": 11,
   "metadata": {},
   "outputs": [
    {
     "data": {
      "text/plain": [
       "array([[ 0.03359122, -0.01374388, -0.04224411, ...,  0.0454323 ,\n",
       "         0.04199422, -0.03748216],\n",
       "       [ 0.05418294,  0.02125891, -0.01160441, ...,  0.00384664,\n",
       "         0.00583727, -0.04800911],\n",
       "       [ 0.06379892,  0.00157726, -0.0260894 , ...,  0.00026244,\n",
       "        -0.04051778, -0.02760356],\n",
       "       ...,\n",
       "       [ 0.03382177,  0.07250165, -0.02072722, ...,  0.03050919,\n",
       "         0.0002706 , -0.01424059],\n",
       "       [ 0.04952749,  0.01430178, -0.04183309, ...,  0.01190011,\n",
       "        -0.02923723, -0.01942215],\n",
       "       [ 0.06207929,  0.00980645, -0.04013105, ..., -0.00050627,\n",
       "         0.05970911, -0.01466273]], dtype=float32)"
      ]
     },
     "execution_count": 11,
     "metadata": {},
     "output_type": "execute_result"
    }
   ],
   "source": [
    "with open('jobIndex.pk1', 'rb') as f:\n",
    "    jobIndex = pickle.load(f)\n",
    "    # print(\"Job vectors loaded\")\n",
    "\n",
    "jobIndex\n"
   ]
  },
  {
   "cell_type": "code",
   "execution_count": 4,
   "metadata": {},
   "outputs": [
    {
     "data": {
      "text/plain": [
       "array([[1942139, 1944305, 1935800, 1936218, 1941286, 1939921, 1936984,\n",
       "        1942443, 1926429, 1943996]])"
      ]
     },
     "execution_count": 4,
     "metadata": {},
     "output_type": "execute_result"
    }
   ],
   "source": [
    "Location"
   ]
  },
  {
   "cell_type": "code",
   "execution_count": 12,
   "metadata": {},
   "outputs": [],
   "source": [
    "from database import engine\n",
    "# Define your query\n",
    "query = 'SELECT \"Id\", \"Title\", \"Description\" FROM \"Jobs\"'\n",
    "\n",
    "# Read the data into a DataFrame\n",
    "df = pd.read_sql(query, engine)\n",
    "\n"
   ]
  },
  {
   "cell_type": "code",
   "execution_count": 13,
   "metadata": {},
   "outputs": [
    {
     "data": {
      "text/html": [
       "<div>\n",
       "<style scoped>\n",
       "    .dataframe tbody tr th:only-of-type {\n",
       "        vertical-align: middle;\n",
       "    }\n",
       "\n",
       "    .dataframe tbody tr th {\n",
       "        vertical-align: top;\n",
       "    }\n",
       "\n",
       "    .dataframe thead th {\n",
       "        text-align: right;\n",
       "    }\n",
       "</style>\n",
       "<table border=\"1\" class=\"dataframe\">\n",
       "  <thead>\n",
       "    <tr style=\"text-align: right;\">\n",
       "      <th></th>\n",
       "      <th>Id</th>\n",
       "      <th>Title</th>\n",
       "      <th>Description</th>\n",
       "    </tr>\n",
       "  </thead>\n",
       "  <tbody>\n",
       "    <tr>\n",
       "      <th>32</th>\n",
       "      <td>1935800</td>\n",
       "      <td>UX Frontend Developer</td>\n",
       "      <td>&lt;div class='\"content-intro\"'&gt;&lt;p&gt;&lt;strong&gt;We Mak...</td>\n",
       "    </tr>\n",
       "    <tr>\n",
       "      <th>76</th>\n",
       "      <td>1936218</td>\n",
       "      <td>FullStack Developer</td>\n",
       "      <td>&lt;div class='\"content-intro\"'&gt;&lt;p&gt;&lt;strong&gt;We Mak...</td>\n",
       "    </tr>\n",
       "    <tr>\n",
       "      <th>1271</th>\n",
       "      <td>1926429</td>\n",
       "      <td>Paid Media Specialist</td>\n",
       "      <td>&lt;div class=\"h3\"&gt;&lt;strong&gt; Fully remote for LATA...</td>\n",
       "    </tr>\n",
       "    <tr>\n",
       "      <th>2205</th>\n",
       "      <td>1939921</td>\n",
       "      <td>Software Engineer</td>\n",
       "      <td>&lt;p&gt;&lt;strong&gt;Ar you based in Argentina, Brazil o...</td>\n",
       "    </tr>\n",
       "    <tr>\n",
       "      <th>2475</th>\n",
       "      <td>1936984</td>\n",
       "      <td>Technical Project Manager</td>\n",
       "      <td>&lt;p&gt;We are Kubikware™, a digital agency with &lt;s...</td>\n",
       "    </tr>\n",
       "    <tr>\n",
       "      <th>2599</th>\n",
       "      <td>1941286</td>\n",
       "      <td>Python Web Developer</td>\n",
       "      <td>&lt;br/&gt;&lt;br/&gt;&lt;div&gt;Company Description&lt;/div&gt;&lt;p&gt;&lt;st...</td>\n",
       "    </tr>\n",
       "    <tr>\n",
       "      <th>2768</th>\n",
       "      <td>1942443</td>\n",
       "      <td>Mobile UX/UI Designer</td>\n",
       "      <td>&lt;div&gt;&lt;p&gt;&lt;strong&gt;We Make Remote Work Remarkable...</td>\n",
       "    </tr>\n",
       "    <tr>\n",
       "      <th>2855</th>\n",
       "      <td>1942139</td>\n",
       "      <td>Data Analyst</td>\n",
       "      <td>&lt;div&gt;&lt;strong&gt;Join Our Team&lt;/strong&gt;&lt;/div&gt;&lt;div&gt;...</td>\n",
       "    </tr>\n",
       "    <tr>\n",
       "      <th>3036</th>\n",
       "      <td>1944305</td>\n",
       "      <td>Data Insights Analyst</td>\n",
       "      <td>&lt;div&gt;&lt;b&gt;Join Our Team&lt;/b&gt;&lt;/div&gt;&lt;div&gt;&lt;br/&gt;&lt;/div...</td>\n",
       "    </tr>\n",
       "    <tr>\n",
       "      <th>3194</th>\n",
       "      <td>1943996</td>\n",
       "      <td>Senior Frontend Developer</td>\n",
       "      <td>&lt;div&gt;Your responsibilities&lt;/div&gt;&lt;p&gt;We are look...</td>\n",
       "    </tr>\n",
       "  </tbody>\n",
       "</table>\n",
       "</div>"
      ],
      "text/plain": [
       "           Id                      Title  \\\n",
       "32    1935800      UX Frontend Developer   \n",
       "76    1936218        FullStack Developer   \n",
       "1271  1926429      Paid Media Specialist   \n",
       "2205  1939921          Software Engineer   \n",
       "2475  1936984  Technical Project Manager   \n",
       "2599  1941286       Python Web Developer   \n",
       "2768  1942443      Mobile UX/UI Designer   \n",
       "2855  1942139               Data Analyst   \n",
       "3036  1944305      Data Insights Analyst   \n",
       "3194  1943996  Senior Frontend Developer   \n",
       "\n",
       "                                            Description  \n",
       "32    <div class='\"content-intro\"'><p><strong>We Mak...  \n",
       "76    <div class='\"content-intro\"'><p><strong>We Mak...  \n",
       "1271  <div class=\"h3\"><strong> Fully remote for LATA...  \n",
       "2205  <p><strong>Ar you based in Argentina, Brazil o...  \n",
       "2475  <p>We are Kubikware™, a digital agency with <s...  \n",
       "2599  <br/><br/><div>Company Description</div><p><st...  \n",
       "2768  <div><p><strong>We Make Remote Work Remarkable...  \n",
       "2855  <div><strong>Join Our Team</strong></div><div>...  \n",
       "3036  <div><b>Join Our Team</b></div><div><br/></div...  \n",
       "3194  <div>Your responsibilities</div><p>We are look...  "
      ]
     },
     "execution_count": 13,
     "metadata": {},
     "output_type": "execute_result"
    }
   ],
   "source": [
    "Location = Location.reshape(-1)\n",
    "# Filter the DataFrame where 'Category' is in the list\n",
    "filtered_df = df[df['Id'].isin(Location)]\n",
    "filtered_df.head(10)"
   ]
  },
  {
   "cell_type": "code",
   "execution_count": null,
   "metadata": {},
   "outputs": [],
   "source": []
  }
 ],
 "metadata": {
  "kernelspec": {
   "display_name": "Python 3 (ipykernel)",
   "language": "python",
   "name": "python3"
  },
  "language_info": {
   "codemirror_mode": {
    "name": "ipython",
    "version": 3
   },
   "file_extension": ".py",
   "mimetype": "text/x-python",
   "name": "python",
   "nbconvert_exporter": "python",
   "pygments_lexer": "ipython3",
   "version": "3.9.12"
  }
 },
 "nbformat": 4,
 "nbformat_minor": 2
}
