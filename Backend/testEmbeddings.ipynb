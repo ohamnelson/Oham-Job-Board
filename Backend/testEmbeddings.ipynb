{
 "cells": [
  {
   "cell_type": "code",
   "execution_count": 2,
   "metadata": {},
   "outputs": [
    {
     "name": "stderr",
     "output_type": "stream",
     "text": [
      "/Users/ohamugochukwu/Documents/Oham-Job-Board/jobsite/lib/python3.9/site-packages/sentence_transformers/cross_encoder/CrossEncoder.py:13: TqdmWarning: IProgress not found. Please update jupyter and ipywidgets. See https://ipywidgets.readthedocs.io/en/stable/user_install.html\n",
      "  from tqdm.autonotebook import tqdm, trange\n",
      "/Users/ohamugochukwu/Documents/Oham-Job-Board/jobsite/lib/python3.9/site-packages/transformers/tokenization_utils_base.py:1601: FutureWarning: `clean_up_tokenization_spaces` was not set. It will be set to `True` by default. This behavior will be depracted in transformers v4.45, and will be then set to `False` by default. For more details check this issue: https://github.com/huggingface/transformers/issues/31884\n",
      "  warnings.warn(\n"
     ]
    }
   ],
   "source": [
    "import pandas as pd\n",
    "import numpy as np\n",
    "from utils import search_query\n",
    "\n",
    "from sentence_transformers import SentenceTransformer\n",
    "import faiss\n",
    "import pickle\n",
    "encoder = SentenceTransformer(\"all-mpnet-base-v2\")"
   ]
  },
  {
   "cell_type": "code",
   "execution_count": 4,
   "metadata": {},
   "outputs": [],
   "source": [
    "queryString = \"\"\"\n",
    "\n",
    "<div class='\"content-intro\"'><p>At Skillsoft, we propel organizations and people to grow together through transformative learning experiences. We believe every team member has the potential to be AMAZING. Join us in our quest to transform learning and help individuals unleash their edge.</p></div><p><strong>OVERVIEW</strong>:</p>\n",
    "<p>We are looking for an HR Service Desk Executive to join our team. The ideal candidate should have a strong background in HR and previous experience working on a HR Service Desk platform, such as FreshService. The HR Service Desk Executive will be responsible for providing support to employees and managers on HR-related inquiries and issues. This role requires excellent communication skills, a customer-focused attitude, and the ability to work in a fast-paced environment.</p>\n",
    "<p><strong>OPPORTUNITY HIGHLIGHTS: </strong></p>\n",
    "<ul style=\"\">\n",
    "<li style=\"\">Act as the first point of contact for all HR-related inquiries and issues</li>\n",
    "<li style=\"\">Respond to inquiries via phone, email, or chat in a timely and professional manner</li>\n",
    "<li style=\"\">Provide guidance and support to employees and managers on HR policies, procedures, and programs</li>\n",
    "<li style=\"\">Troubleshoot and resolve issues related to employee data, payroll, benefits, and HR systems</li>\n",
    "<li style=\"\">Escalate complex issues to the appropriate HR team member or manager</li>\n",
    "<li style=\"\">Assist with HR-related projects and initiatives as needed</li>\n",
    "<li style=\"\">Maintain accurate records of all HR-related inquiries and issues</li>\n",
    "<li style=\"\">Ensure compliance with HR policies and procedures</li>\n",
    "<li style=\"\">Collaborate with other HR team members to continuously improve HR service delivery</li>\n",
    "<li style=\"\">Other responsibilities as defined from time to time</li>\n",
    "</ul>\n",
    "<p><strong>​SKILLS &amp; QUALIFICATIONS: </strong></p>\n",
    "<ul style=\"\">\n",
    "<li style=\"\">​Bachelor's degree in HR or related field</li>\n",
    "<li style=\"\">Minimum of 3 - 5 years of experience working on a HR Service Desk platform, such as FreshService</li>\n",
    "<li style=\"\">Minimum of 5+ years of experience managing Core HR, People operation function for multinational companies (US, EMEA)</li>\n",
    "<li style=\"\">Strong knowledge of HR policies, procedures, and programs</li>\n",
    "<li style=\"\">Excellent communication skills, both verbal and written</li>\n",
    "<li style=\"\">Strong customer service skills with a customer-focused attitude</li>\n",
    "<li style=\"\">Ability to work in a fast-paced environment and handle multiple priorities</li>\n",
    "<li style=\"\">Strong problem-solving and analytical skills</li>\n",
    "<li style=\"\">Attention to detail and accuracy</li>\n",
    "<li style=\"\">Ability to maintain confidentiality and handle sensitive information</li>\n",
    "<li style=\"\">Proficient in MS Office, including Excel, Word, and PowerPoint</li>\n",
    "</ul>\n",
    "<p>If you meet these requirements and are passionate about providing excellent customer service, we encourage you to apply for this exciting opportunity.</p>\n",
    "<p><strong>OUR VALUES</strong></p>\n",
    "<p><strong>WE ARE PASSIONATELY COMMITTED TO LEADERSHIP, LEARNING, AND SUCCESS. WE EMBRACE EVERY OPPORTUNITY TO SERVE OUR CUSTOMERS AND EACH OTHER AS:</strong></p>\n",
    "<ul style=\"\">\n",
    "<li style=\"\"><strong>ONE TEAM</strong></li>\n",
    "<li style=\"\"><strong>OPEN AND RESPECTFUL</strong></li>\n",
    "<li style=\"\"><strong>CURIOUS</strong></li>\n",
    "<li style=\"\"><strong>READY</strong></li>\n",
    "<li style=\"\"><strong>TRUE</strong></li>\n",
    "</ul><div class='\"content-conclusion\"'><div class=\"h3\">MORE ABOUT SKILLSOFT:</div>\n",
    "<p>Skillsoft delivers online learning, training, and talent solutions to help organizations <strong>unleash their edge</strong>. Leveraging immersive, engaging content, Skillsoft enables organizations to unlock the potential in their best assets – their people – and build teams with the skills they need for success. Empowering 36 million learners and counting, Skillsoft democratizes learning through an intelligent learning experience and a customized, learner-centric approach to skills development with resources for Leadership Development, Business Skills, Technology &amp; Development, Digital Transformation, and Compliance.</p>\n",
    "<p>Skillsoft is partner to thousands of leading global organizations, including many Fortune 500 companies. The company features three award-winning systems that support learning, performance and success: Skillsoft learning content, the Percipio intelligent learning experience platform, which offers measurable impact across the entire employee lifecycle. Learn more at <a href=\"%22http://www.skillsoft.com/%22\" rel=\"nofollow\">www.skillsoft.com</a>.</p>\n",
    "<p style='\"text-align:'><strong>Thank you for taking the time to learn more about us. <br>If this opportunity intrigues you, we would love for you to apply!</strong></p>\n",
    "<p>NOTE TO EMPLOYMENT AGENCIES: We value the partnerships we have built with our preferred vendors. Skillsoft does not accept unsolicited resumes from employment agencies.  All resumes submitted by employment agencies directly to any Skillsoft employee or hiring manager in any form without a signed Skillsoft Employment Agency Agreement on file and search engagement for that position will be deemed unsolicited in nature.  No fee will be paid in the event the candidate is subsequently hired as a result of the referral or through other means.</p>\n",
    "<p>Skillsoft is an Equal Opportunity-Affirmative Action Employer: It is the policy of Skillsoft (US) Corporation to provide equal employment opportunities to applicants and employees without regard to race, color, national origin, citizenship, religion, sex, sexual orientation, age, marital status, disability (mental or physical), protected veteran status, genetic information or any other class protected by law.</p></div><img src=\"https://remotive.com/job/track/1932373/blank.gif?source=public_api\" alt=\"\"/>\n",
    "\n",
    "\n",
    "\"\"\""
   ]
  },
  {
   "cell_type": "code",
   "execution_count": 5,
   "metadata": {},
   "outputs": [
    {
     "data": {
      "text/plain": [
       "(1, 768)"
      ]
     },
     "execution_count": 5,
     "metadata": {},
     "output_type": "execute_result"
    }
   ],
   "source": [
    "# Load the FAISS index\n",
    "jobIndex = faiss.read_index('jobIndex.pk1')\n",
    "\n",
    "# Encode the search query\n",
    "jobSearch_vec = encoder.encode(queryString)\n",
    "\n",
    "# Reshape the vector to match the expected dimensions\n",
    "jobSearch_vec = jobSearch_vec.reshape((1, -1))\n",
    "\n",
    "jobSearch_vec.shape\n"
   ]
  },
  {
   "cell_type": "code",
   "execution_count": 6,
   "metadata": {},
   "outputs": [
    {
     "data": {
      "text/plain": [
       "1991"
      ]
     },
     "execution_count": 6,
     "metadata": {},
     "output_type": "execute_result"
    }
   ],
   "source": [
    "jobIndex.ntotal"
   ]
  },
  {
   "cell_type": "code",
   "execution_count": 7,
   "metadata": {},
   "outputs": [],
   "source": [
    "# # Perform the search\n",
    "jobDistances, jobI = jobIndex.search(jobSearch_vec, 1)"
   ]
  }
 ],
 "metadata": {
  "kernelspec": {
   "display_name": "jobsite",
   "language": "python",
   "name": "python3"
  },
  "language_info": {
   "codemirror_mode": {
    "name": "ipython",
    "version": 3
   },
   "file_extension": ".py",
   "mimetype": "text/x-python",
   "name": "python",
   "nbconvert_exporter": "python",
   "pygments_lexer": "ipython3",
   "version": "3.9.12"
  }
 },
 "nbformat": 4,
 "nbformat_minor": 2
}
