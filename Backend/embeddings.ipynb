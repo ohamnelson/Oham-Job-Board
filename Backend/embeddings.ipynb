{
 "cells": [
  {
   "cell_type": "code",
   "execution_count": 1,
   "metadata": {},
   "outputs": [
    {
     "name": "stderr",
     "output_type": "stream",
     "text": [
      "/Users/ohamugochukwu/Documents/Oham-Job-Board/jobsite/lib/python3.9/site-packages/sentence_transformers/cross_encoder/CrossEncoder.py:13: TqdmWarning: IProgress not found. Please update jupyter and ipywidgets. See https://ipywidgets.readthedocs.io/en/stable/user_install.html\n",
      "  from tqdm.autonotebook import tqdm, trange\n"
     ]
    }
   ],
   "source": [
    "import pandas as pd\n",
    "import numpy as np\n",
    "from utils import search_query\n",
    "\n",
    "from sentence_transformers import SentenceTransformer\n",
    "import faiss\n",
    "import pickle"
   ]
  },
  {
   "cell_type": "code",
   "execution_count": 2,
   "metadata": {},
   "outputs": [
    {
     "name": "stderr",
     "output_type": "stream",
     "text": [
      "/Users/ohamugochukwu/Documents/Oham-Job-Board/jobsite/lib/python3.9/site-packages/transformers/tokenization_utils_base.py:1601: FutureWarning: `clean_up_tokenization_spaces` was not set. It will be set to `True` by default. This behavior will be depracted in transformers v4.45, and will be then set to `False` by default. For more details check this issue: https://github.com/huggingface/transformers/issues/31884\n",
      "  warnings.warn(\n"
     ]
    }
   ],
   "source": [
    "from database import engine\n",
    "encoder = SentenceTransformer(\"all-mpnet-base-v2\")"
   ]
  },
  {
   "cell_type": "code",
   "execution_count": 3,
   "metadata": {},
   "outputs": [],
   "source": [
    "# Define your query\n",
    "query = 'SELECT \"Id\", \"Title\", \"Description\" FROM \"Jobs\"'\n",
    "\n",
    "# Read the data into a DataFrame\n",
    "df = pd.read_sql(query, engine)\n",
    "\n",
    "# Display the DataFrame\n",
    "# df.head()\n",
    "\n",
    "df['Id'] = df['Id'].astype('int32')\n",
    "\n",
    "vectors = encoder.encode(df[\"Description\"])\n",
    "\n",
    "index = faiss.IndexIDMap(faiss.IndexFlatL2(768))\n",
    "# index = faiss.IndexIDMap(faiss.IndexFlatIP(768))\n",
    "# Normalize the data\n",
    "# faiss.normalize_L2(vectors)\n",
    "index.add_with_ids(vectors, df['Id'].to_list())\n",
    "\n",
    "search_vec = encoder.encode(search_query)\n",
    "# faiss.normalize_L2(search_vec)\n",
    "search_vec = search_vec.reshape((1,-1))\n",
    "distances, I = index.search(search_vec, 10)\n"
   ]
  },
  {
   "cell_type": "code",
   "execution_count": 4,
   "metadata": {},
   "outputs": [
    {
     "data": {
      "text/plain": [
       "array([[1932572, 1935709, 1934264, 1921741, 1935708, 1937168, 1934988,\n",
       "        1934193, 1926706, 1936466]])"
      ]
     },
     "execution_count": 4,
     "metadata": {},
     "output_type": "execute_result"
    }
   ],
   "source": [
    "I\n"
   ]
  },
  {
   "cell_type": "code",
   "execution_count": 5,
   "metadata": {},
   "outputs": [
    {
     "data": {
      "text/html": [
       "<div>\n",
       "<style scoped>\n",
       "    .dataframe tbody tr th:only-of-type {\n",
       "        vertical-align: middle;\n",
       "    }\n",
       "\n",
       "    .dataframe tbody tr th {\n",
       "        vertical-align: top;\n",
       "    }\n",
       "\n",
       "    .dataframe thead th {\n",
       "        text-align: right;\n",
       "    }\n",
       "</style>\n",
       "<table border=\"1\" class=\"dataframe\">\n",
       "  <thead>\n",
       "    <tr style=\"text-align: right;\">\n",
       "      <th></th>\n",
       "      <th>Id</th>\n",
       "      <th>Title</th>\n",
       "      <th>Description</th>\n",
       "    </tr>\n",
       "  </thead>\n",
       "  <tbody>\n",
       "    <tr>\n",
       "      <th>4</th>\n",
       "      <td>1936466</td>\n",
       "      <td>Senior Staff Engineer - Site Reliability</td>\n",
       "      <td>&lt;br&gt;&lt;br&gt;&lt;div class=\"h3\"&gt;Company Description&lt;/d...</td>\n",
       "    </tr>\n",
       "    <tr>\n",
       "      <th>48</th>\n",
       "      <td>1937168</td>\n",
       "      <td>AI Engineer</td>\n",
       "      <td>&lt;div class=\"h3\" id=\"189ddca3-b252-4731-a8c0-73...</td>\n",
       "    </tr>\n",
       "    <tr>\n",
       "      <th>221</th>\n",
       "      <td>1934988</td>\n",
       "      <td>Computer Vision Engineer</td>\n",
       "      <td>&lt;p&gt;&lt;span dir=\"ltr\"&gt;&lt;br&gt;&lt;/span&gt;&lt;/p&gt;\\n&lt;p&gt;We are ...</td>\n",
       "    </tr>\n",
       "    <tr>\n",
       "      <th>265</th>\n",
       "      <td>1934193</td>\n",
       "      <td>Engineering Manager, Data and ML</td>\n",
       "      <td>&lt;div&gt;&lt;span style=\"font-size: 16px\"&gt;We are look...</td>\n",
       "    </tr>\n",
       "    <tr>\n",
       "      <th>322</th>\n",
       "      <td>1934264</td>\n",
       "      <td>Data Scientist, Hopper CS Analytics</td>\n",
       "      <td>&lt;div&gt;We’re seeking a highly skilled and experi...</td>\n",
       "    </tr>\n",
       "    <tr>\n",
       "      <th>493</th>\n",
       "      <td>1932572</td>\n",
       "      <td>Machine Learning Engineer</td>\n",
       "      <td>&lt;br&gt;&lt;br&gt;&lt;div class=\"h3\"&gt;Company Description&lt;/d...</td>\n",
       "    </tr>\n",
       "    <tr>\n",
       "      <th>1231</th>\n",
       "      <td>1926706</td>\n",
       "      <td>Machine Learning Engineer - Large Language Models</td>\n",
       "      <td>&lt;p&gt;&lt;br&gt;&lt;br&gt;&lt;/p&gt;\\n&lt;div class=\"h3\"&gt;Company Descr...</td>\n",
       "    </tr>\n",
       "    <tr>\n",
       "      <th>1590</th>\n",
       "      <td>1921741</td>\n",
       "      <td>Machine Learning &amp; AI Engineer</td>\n",
       "      <td>&lt;p&gt;&lt;/p&gt;&lt;p&gt;Our team is passionate about leverag...</td>\n",
       "    </tr>\n",
       "    <tr>\n",
       "      <th>1742</th>\n",
       "      <td>1935708</td>\n",
       "      <td>Senior Machine Learning Engineer</td>\n",
       "      <td>&lt;p&gt;&lt;strong&gt;The Mission:&lt;/strong&gt;&lt;/p&gt;&lt;p&gt;This is...</td>\n",
       "    </tr>\n",
       "    <tr>\n",
       "      <th>1743</th>\n",
       "      <td>1935709</td>\n",
       "      <td>Middle/Senior Machine Learning Engineer</td>\n",
       "      <td>&lt;div&gt;&lt;b&gt;Join us at Provectus &lt;/b&gt;&lt;span&gt;to be a...</td>\n",
       "    </tr>\n",
       "  </tbody>\n",
       "</table>\n",
       "</div>"
      ],
      "text/plain": [
       "           Id                                              Title  \\\n",
       "4     1936466           Senior Staff Engineer - Site Reliability   \n",
       "48    1937168                                        AI Engineer   \n",
       "221   1934988                           Computer Vision Engineer   \n",
       "265   1934193                   Engineering Manager, Data and ML   \n",
       "322   1934264                Data Scientist, Hopper CS Analytics   \n",
       "493   1932572                          Machine Learning Engineer   \n",
       "1231  1926706  Machine Learning Engineer - Large Language Models   \n",
       "1590  1921741                     Machine Learning & AI Engineer   \n",
       "1742  1935708                   Senior Machine Learning Engineer   \n",
       "1743  1935709            Middle/Senior Machine Learning Engineer   \n",
       "\n",
       "                                            Description  \n",
       "4     <br><br><div class=\"h3\">Company Description</d...  \n",
       "48    <div class=\"h3\" id=\"189ddca3-b252-4731-a8c0-73...  \n",
       "221   <p><span dir=\"ltr\"><br></span></p>\\n<p>We are ...  \n",
       "265   <div><span style=\"font-size: 16px\">We are look...  \n",
       "322   <div>We’re seeking a highly skilled and experi...  \n",
       "493   <br><br><div class=\"h3\">Company Description</d...  \n",
       "1231  <p><br><br></p>\\n<div class=\"h3\">Company Descr...  \n",
       "1590  <p></p><p>Our team is passionate about leverag...  \n",
       "1742  <p><strong>The Mission:</strong></p><p>This is...  \n",
       "1743  <div><b>Join us at Provectus </b><span>to be a...  "
      ]
     },
     "execution_count": 5,
     "metadata": {},
     "output_type": "execute_result"
    }
   ],
   "source": [
    "I = I.reshape(-1)\n",
    "# Filter the DataFrame where 'Category' is in the list\n",
    "filtered_df = df[df['Id'].isin(I)]\n",
    "filtered_df.head(10)"
   ]
  },
  {
   "cell_type": "code",
   "execution_count": 6,
   "metadata": {},
   "outputs": [],
   "source": [
    "jobIndexPath = \"jobIndex.pk1\"\n",
    "faiss.write_index(index, jobIndexPath)"
   ]
  },
  {
   "cell_type": "code",
   "execution_count": 7,
   "metadata": {},
   "outputs": [],
   "source": [
    "# # Load the saved FAISS index\n",
    "# jobIndex = faiss.read_index(\"jobIndex.pk1\")\n",
    "queryString = \"\"\"\n",
    "\n",
    "<div class='\"content-intro\"'><p>At Skillsoft, we propel organizations and people to grow together through transformative learning experiences. We believe every team member has the potential to be AMAZING. Join us in our quest to transform learning and help individuals unleash their edge.</p></div><p><strong>OVERVIEW</strong>:</p>\n",
    "<p>We are looking for an HR Service Desk Executive to join our team. The ideal candidate should have a strong background in HR and previous experience working on a HR Service Desk platform, such as FreshService. The HR Service Desk Executive will be responsible for providing support to employees and managers on HR-related inquiries and issues. This role requires excellent communication skills, a customer-focused attitude, and the ability to work in a fast-paced environment.</p>\n",
    "<p><strong>OPPORTUNITY HIGHLIGHTS: </strong></p>\n",
    "<ul style=\"\">\n",
    "<li style=\"\">Act as the first point of contact for all HR-related inquiries and issues</li>\n",
    "<li style=\"\">Respond to inquiries via phone, email, or chat in a timely and professional manner</li>\n",
    "<li style=\"\">Provide guidance and support to employees and managers on HR policies, procedures, and programs</li>\n",
    "<li style=\"\">Troubleshoot and resolve issues related to employee data, payroll, benefits, and HR systems</li>\n",
    "<li style=\"\">Escalate complex issues to the appropriate HR team member or manager</li>\n",
    "<li style=\"\">Assist with HR-related projects and initiatives as needed</li>\n",
    "<li style=\"\">Maintain accurate records of all HR-related inquiries and issues</li>\n",
    "<li style=\"\">Ensure compliance with HR policies and procedures</li>\n",
    "<li style=\"\">Collaborate with other HR team members to continuously improve HR service delivery</li>\n",
    "<li style=\"\">Other responsibilities as defined from time to time</li>\n",
    "</ul>\n",
    "<p><strong>​SKILLS &amp; QUALIFICATIONS: </strong></p>\n",
    "<ul style=\"\">\n",
    "<li style=\"\">​Bachelor's degree in HR or related field</li>\n",
    "<li style=\"\">Minimum of 3 - 5 years of experience working on a HR Service Desk platform, such as FreshService</li>\n",
    "<li style=\"\">Minimum of 5+ years of experience managing Core HR, People operation function for multinational companies (US, EMEA)</li>\n",
    "<li style=\"\">Strong knowledge of HR policies, procedures, and programs</li>\n",
    "<li style=\"\">Excellent communication skills, both verbal and written</li>\n",
    "<li style=\"\">Strong customer service skills with a customer-focused attitude</li>\n",
    "<li style=\"\">Ability to work in a fast-paced environment and handle multiple priorities</li>\n",
    "<li style=\"\">Strong problem-solving and analytical skills</li>\n",
    "<li style=\"\">Attention to detail and accuracy</li>\n",
    "<li style=\"\">Ability to maintain confidentiality and handle sensitive information</li>\n",
    "<li style=\"\">Proficient in MS Office, including Excel, Word, and PowerPoint</li>\n",
    "</ul>\n",
    "<p>If you meet these requirements and are passionate about providing excellent customer service, we encourage you to apply for this exciting opportunity.</p>\n",
    "<p><strong>OUR VALUES</strong></p>\n",
    "<p><strong>WE ARE PASSIONATELY COMMITTED TO LEADERSHIP, LEARNING, AND SUCCESS. WE EMBRACE EVERY OPPORTUNITY TO SERVE OUR CUSTOMERS AND EACH OTHER AS:</strong></p>\n",
    "<ul style=\"\">\n",
    "<li style=\"\"><strong>ONE TEAM</strong></li>\n",
    "<li style=\"\"><strong>OPEN AND RESPECTFUL</strong></li>\n",
    "<li style=\"\"><strong>CURIOUS</strong></li>\n",
    "<li style=\"\"><strong>READY</strong></li>\n",
    "<li style=\"\"><strong>TRUE</strong></li>\n",
    "</ul><div class='\"content-conclusion\"'><div class=\"h3\">MORE ABOUT SKILLSOFT:</div>\n",
    "<p>Skillsoft delivers online learning, training, and talent solutions to help organizations <strong>unleash their edge</strong>. Leveraging immersive, engaging content, Skillsoft enables organizations to unlock the potential in their best assets – their people – and build teams with the skills they need for success. Empowering 36 million learners and counting, Skillsoft democratizes learning through an intelligent learning experience and a customized, learner-centric approach to skills development with resources for Leadership Development, Business Skills, Technology &amp; Development, Digital Transformation, and Compliance.</p>\n",
    "<p>Skillsoft is partner to thousands of leading global organizations, including many Fortune 500 companies. The company features three award-winning systems that support learning, performance and success: Skillsoft learning content, the Percipio intelligent learning experience platform, which offers measurable impact across the entire employee lifecycle. Learn more at <a href=\"%22http://www.skillsoft.com/%22\" rel=\"nofollow\">www.skillsoft.com</a>.</p>\n",
    "<p style='\"text-align:'><strong>Thank you for taking the time to learn more about us. <br>If this opportunity intrigues you, we would love for you to apply!</strong></p>\n",
    "<p>NOTE TO EMPLOYMENT AGENCIES: We value the partnerships we have built with our preferred vendors. Skillsoft does not accept unsolicited resumes from employment agencies.  All resumes submitted by employment agencies directly to any Skillsoft employee or hiring manager in any form without a signed Skillsoft Employment Agency Agreement on file and search engagement for that position will be deemed unsolicited in nature.  No fee will be paid in the event the candidate is subsequently hired as a result of the referral or through other means.</p>\n",
    "<p>Skillsoft is an Equal Opportunity-Affirmative Action Employer: It is the policy of Skillsoft (US) Corporation to provide equal employment opportunities to applicants and employees without regard to race, color, national origin, citizenship, religion, sex, sexual orientation, age, marital status, disability (mental or physical), protected veteran status, genetic information or any other class protected by law.</p></div><img src=\"https://remotive.com/job/track/1932373/blank.gif?source=public_api\" alt=\"\"/>\n",
    "\n",
    "\n",
    "\"\"\"\n",
    "\n",
    "# jobSearch_vec = encoder.encode(queryString)\n",
    "# jobSearch_vec = jobSearch_vec.reshape((1,-1))\n",
    "# jobDistances, jobI = jobIndex.search(jobSearch_vec, 10)"
   ]
  },
  {
   "cell_type": "code",
   "execution_count": 7,
   "metadata": {},
   "outputs": [
    {
     "data": {
      "text/plain": [
       "1991"
      ]
     },
     "execution_count": 7,
     "metadata": {},
     "output_type": "execute_result"
    }
   ],
   "source": [
    "jobIndex.ntotal"
   ]
  },
  {
   "cell_type": "code",
   "execution_count": 8,
   "metadata": {},
   "outputs": [],
   "source": [
    "# Save the FAISS index\n",
    "jobIndexPath = \"jobIndex.pk1\"\n",
    "# faiss.write_index(index, jobIndexPath)\n",
    "\n",
    "# Load the FAISS index\n",
    "jobIndex = faiss.read_index(jobIndexPath)\n",
    "\n",
    "# encoder = SentenceTransformer(\"all-mpnet-base-v2\")\n",
    "# Encode the search query\n",
    "jobSearch_vec = encoder.encode(queryString)\n",
    "\n",
    "\n",
    "# Reshape the vector to match the expected dimensions\n",
    "jobSearch_vec = jobSearch_vec.reshape((1, -1))\n",
    "\n",
    "jobSearch_vec.shape\n",
    "\n",
    "# # Perform the search\n",
    "# jobDistances, jobI = jobIndex.search(jobSearch_vec, 10)\n"
   ]
  },
  {
   "cell_type": "code",
   "execution_count": 4,
   "metadata": {},
   "outputs": [],
   "source": [
    "# # Perform the search\n",
    "jobDistances, jobI = jobIndex.search(jobSearch_vec, 10)"
   ]
  }
 ],
 "metadata": {
  "kernelspec": {
   "display_name": "jobsite",
   "language": "python",
   "name": "python3"
  },
  "language_info": {
   "codemirror_mode": {
    "name": "ipython",
    "version": 3
   },
   "file_extension": ".py",
   "mimetype": "text/x-python",
   "name": "python",
   "nbconvert_exporter": "python",
   "pygments_lexer": "ipython3",
   "version": "3.9.12"
  }
 },
 "nbformat": 4,
 "nbformat_minor": 2
}
