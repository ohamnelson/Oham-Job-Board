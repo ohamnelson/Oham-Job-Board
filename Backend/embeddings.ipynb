{
 "cells": [
  {
   "cell_type": "code",
   "execution_count": 12,
   "metadata": {},
   "outputs": [],
   "source": [
    "import pandas as pd\n",
    "import numpy as np\n",
    "from utils import search_query\n",
    "\n",
    "from sentence_transformers import SentenceTransformer\n",
    "import faiss\n",
    "import pickle"
   ]
  },
  {
   "cell_type": "code",
   "execution_count": 13,
   "metadata": {},
   "outputs": [],
   "source": [
    "from database import engine\n",
    "encoder = SentenceTransformer(\"all-mpnet-base-v2\")"
   ]
  },
  {
   "cell_type": "code",
   "execution_count": 14,
   "metadata": {},
   "outputs": [],
   "source": [
    "# Define your query\n",
    "query = 'SELECT \"Id\", \"Title\", \"Description\" FROM \"Jobs\"'\n",
    "\n",
    "# Read the data into a DataFrame\n",
    "df = pd.read_sql(query, engine)\n",
    "\n",
    "# Display the DataFrame\n",
    "# df.head()\n",
    "\n",
    "df['Id'] = df['Id'].astype('int32')\n",
    "\n",
    "vectors = encoder.encode(df[\"Description\"])\n",
    "\n",
    "# index = faiss.IndexIDMap(faiss.IndexFlatL2(768))\n",
    "# # index = faiss.IndexIDMap(faiss.IndexFlatIP(768))\n",
    "# # Normalize the data\n",
    "# # faiss.normalize_L2(vectors)\n",
    "# index.add_with_ids(vectors, df['Id'].to_list())\n",
    "\n",
    "# search_vec = encoder.encode(search_query)\n",
    "# # faiss.normalize_L2(search_vec)\n",
    "# search_vec = search_vec.reshape((1,-1))\n",
    "# distances, I = index.search(search_vec, 10)\n"
   ]
  },
  {
   "cell_type": "code",
   "execution_count": 5,
   "metadata": {},
   "outputs": [
    {
     "data": {
      "text/html": [
       "<div>\n",
       "<style scoped>\n",
       "    .dataframe tbody tr th:only-of-type {\n",
       "        vertical-align: middle;\n",
       "    }\n",
       "\n",
       "    .dataframe tbody tr th {\n",
       "        vertical-align: top;\n",
       "    }\n",
       "\n",
       "    .dataframe thead th {\n",
       "        text-align: right;\n",
       "    }\n",
       "</style>\n",
       "<table border=\"1\" class=\"dataframe\">\n",
       "  <thead>\n",
       "    <tr style=\"text-align: right;\">\n",
       "      <th></th>\n",
       "      <th>Id</th>\n",
       "      <th>Title</th>\n",
       "      <th>Description</th>\n",
       "    </tr>\n",
       "  </thead>\n",
       "  <tbody>\n",
       "    <tr>\n",
       "      <th>48</th>\n",
       "      <td>1937168</td>\n",
       "      <td>AI Engineer</td>\n",
       "      <td>&lt;div class=\"h3\" id=\"189ddca3-b252-4731-a8c0-73...</td>\n",
       "    </tr>\n",
       "    <tr>\n",
       "      <th>221</th>\n",
       "      <td>1934988</td>\n",
       "      <td>Computer Vision Engineer</td>\n",
       "      <td>&lt;p&gt;&lt;span dir=\"ltr\"&gt;&lt;br&gt;&lt;/span&gt;&lt;/p&gt;\\n&lt;p&gt;We are ...</td>\n",
       "    </tr>\n",
       "    <tr>\n",
       "      <th>265</th>\n",
       "      <td>1934193</td>\n",
       "      <td>Engineering Manager, Data and ML</td>\n",
       "      <td>&lt;div&gt;&lt;span style=\"font-size: 16px\"&gt;We are look...</td>\n",
       "    </tr>\n",
       "    <tr>\n",
       "      <th>323</th>\n",
       "      <td>1934264</td>\n",
       "      <td>Data Scientist, Hopper CS Analytics</td>\n",
       "      <td>&lt;div&gt;We’re seeking a highly skilled and experi...</td>\n",
       "    </tr>\n",
       "    <tr>\n",
       "      <th>494</th>\n",
       "      <td>1932572</td>\n",
       "      <td>Machine Learning Engineer</td>\n",
       "      <td>&lt;br&gt;&lt;br&gt;&lt;div class=\"h3\"&gt;Company Description&lt;/d...</td>\n",
       "    </tr>\n",
       "    <tr>\n",
       "      <th>1591</th>\n",
       "      <td>1921741</td>\n",
       "      <td>Machine Learning &amp; AI Engineer</td>\n",
       "      <td>&lt;p&gt;&lt;/p&gt;&lt;p&gt;Our team is passionate about leverag...</td>\n",
       "    </tr>\n",
       "    <tr>\n",
       "      <th>1743</th>\n",
       "      <td>1935708</td>\n",
       "      <td>Senior Machine Learning Engineer</td>\n",
       "      <td>&lt;p&gt;&lt;strong&gt;The Mission:&lt;/strong&gt;&lt;/p&gt;&lt;p&gt;This is...</td>\n",
       "    </tr>\n",
       "    <tr>\n",
       "      <th>1744</th>\n",
       "      <td>1935709</td>\n",
       "      <td>Middle/Senior Machine Learning Engineer</td>\n",
       "      <td>&lt;div&gt;&lt;b&gt;Join us at Provectus &lt;/b&gt;&lt;span&gt;to be a...</td>\n",
       "    </tr>\n",
       "    <tr>\n",
       "      <th>2206</th>\n",
       "      <td>1939851</td>\n",
       "      <td>Senior Software Engineer - Machine Learning (N...</td>\n",
       "      <td>&lt;p&gt;At Mitratech, we are a team of technocrats ...</td>\n",
       "    </tr>\n",
       "    <tr>\n",
       "      <th>2931</th>\n",
       "      <td>1942860</td>\n",
       "      <td>Staff Engineer, Machine Learning</td>\n",
       "      <td>&lt;p&gt;Madhive is the leading tech company enginee...</td>\n",
       "    </tr>\n",
       "  </tbody>\n",
       "</table>\n",
       "</div>"
      ],
      "text/plain": [
       "           Id                                              Title  \\\n",
       "48    1937168                                        AI Engineer   \n",
       "221   1934988                           Computer Vision Engineer   \n",
       "265   1934193                   Engineering Manager, Data and ML   \n",
       "323   1934264                Data Scientist, Hopper CS Analytics   \n",
       "494   1932572                          Machine Learning Engineer   \n",
       "1591  1921741                     Machine Learning & AI Engineer   \n",
       "1743  1935708                   Senior Machine Learning Engineer   \n",
       "1744  1935709            Middle/Senior Machine Learning Engineer   \n",
       "2206  1939851  Senior Software Engineer - Machine Learning (N...   \n",
       "2931  1942860                   Staff Engineer, Machine Learning   \n",
       "\n",
       "                                            Description  \n",
       "48    <div class=\"h3\" id=\"189ddca3-b252-4731-a8c0-73...  \n",
       "221   <p><span dir=\"ltr\"><br></span></p>\\n<p>We are ...  \n",
       "265   <div><span style=\"font-size: 16px\">We are look...  \n",
       "323   <div>We’re seeking a highly skilled and experi...  \n",
       "494   <br><br><div class=\"h3\">Company Description</d...  \n",
       "1591  <p></p><p>Our team is passionate about leverag...  \n",
       "1743  <p><strong>The Mission:</strong></p><p>This is...  \n",
       "1744  <div><b>Join us at Provectus </b><span>to be a...  \n",
       "2206  <p>At Mitratech, we are a team of technocrats ...  \n",
       "2931  <p>Madhive is the leading tech company enginee...  "
      ]
     },
     "execution_count": 5,
     "metadata": {},
     "output_type": "execute_result"
    }
   ],
   "source": [
    "I = I.reshape(-1)\n",
    "# Filter the DataFrame where 'Category' is in the list\n",
    "filtered_df = df[df['Id'].isin(I)]\n",
    "filtered_df.head(10)"
   ]
  },
  {
   "cell_type": "code",
   "execution_count": 6,
   "metadata": {},
   "outputs": [],
   "source": [
    "# jobIndexPath = \"jobIndex.faiss\"\n",
    "# faiss.write_index(index, jobIndexPath)"
   ]
  },
  {
   "cell_type": "code",
   "execution_count": 69,
   "metadata": {},
   "outputs": [],
   "source": [
    "# # Load the saved FAISS index\n",
    "# jobIndex = faiss.read_index(\"jobIndex.pk1\")\n",
    "queryString = \"\"\"\n",
    "\n",
    "<br/><br/><div>Company Description</div><p>We are looking for a <strong>Social News Reporter</strong> to join our new and exciting <strong>Content Hub</strong>, to bring social news content to the entire Reach network. This is a fantastic opportunity to work with and create content for our national titles;<strong> Daily Mirror, Express, Daily Star and Daily Record and our regional titles including but not limited to the Manchester Evening News, Liverpool Echo and Wales Online. </strong></p><p><strong>The Content Hub</strong> is home to around 300 journalists from across our business and powered by our amazing brands, delivering brilliant content that drives engagement, impact and results. </p><p>You will source content from a variety of social platforms, spotting stories before they go viral and turning them into engaging stories that appeal to our various audiences.</p><p><strong>So, who are we?</strong></p><p>We are Reach Plc, you might not have heard of us but we have probably met without you even realising it. We are home to the UK and Ireland’s most iconic digital platforms, magazines and newspapers. From the Mirror, Daily Express and OK!, to our regional titles such as the Liverpool Echo, BirminghamLive and the Manchester Evening News (plus lots more), our brands and the stories we cover are as varied as our people. We help all kinds of people share experiences through our stories because we believe this is what makes us human.</p><p>Oh, and we should probably also mention that with a monthly readership of 47 million people, Reach is the largest commercial publisher in the UK. At Reach, not only will you feel better understood, you will also feel you understand other people better too. </p><p><strong>We are happy to consider applications on a flexible working basis, and will always aim to accommodate requests where possible.</strong></p><p><strong>This role is home based and we are therefore open to candidates based across the UK.</strong></p><br/><br/><div>Job Description</div><p><strong>What will the role involve?</strong></p><p>You will pitch story ideas based on social media content you search for and source via a variety of social media platforms, including TikTok, Instagram, X, Reddit and Facebook. You will turn pre-viral and viral moments into entertaining news stories. You will source stories that appeal to different types of audiences, liaising with our vast network of national and regional newsrooms to decide where each story works best.</p><p>You will build your own list of ideas daily, pitching them to the Social Newsdesk Editors and writing high quality copy at pace. You will keep a finger on the pulse of what's new, what's trending and what’s about to go viral. This role involves working various shifts on a rota pattern including some weekends, so a flexible approach is required.</p><br/><br/><div>Qualifications</div><p><strong>Who are we looking for?</strong></p><p>You are an NCTJ qualified (or time served equivalent) journalist with good working knowledge of media law. You have demonstrable newsroom experience and a clear passion for storytelling. You have excellent digital publishing skills and a good working knowledge of social media platforms. </p><p>You are passionate about audience engagement and have a keen eye to spot trending news stories. You have an eye for analytics, with good SEO knowledge and a good understanding of our various news brands. You are keen to have your work published in some of the biggest news sites in the UK and work as a team player in our dynamic new Content Hub.</p><br/><br/><div>Additional Information</div><p><strong>What can we offer you?</strong></p><p>We are offering a competitive salary, and benefits including:</p><ul><li><strong>Help saving for your retirement</strong> - join our pension scheme and we’ll match contributions up to 6%</li><li><strong>25 days’ holiday per year when you join.</strong> After three, five and ten years’ service with Reach, you’ll accrue one additional day of annual leave. We also have a <strong>Holiday Purchase Scheme</strong></li><li><strong>Giving back day</strong> - an additional day’s leave each year to support a cause close to your heart</li><li><strong>Enhanced family leave</strong> - including maternity, paternity and adoption - and you’ll be eligible after just six months’ employment</li><li><strong>Private Healthcare Cash Plan</strong> - free health cash plan so you can claim back cash for a range of medical expenses</li><li><strong>As one of the UK’s top 50 Inclusive Employers</strong> everyone’s invited to join our events, programmes and networks to celebrate diversity and build an environment where all our people can thrive</li><li><strong>Wellbeing support</strong> - including a 24/7 employee assistance programme (EAP) for you and your nearest and dearest</li><li><strong>Awesome career opportunities</strong> - you’ll have support from your line manager and a range of learning &amp; development programmes</li><li>We are also a member of the <strong>30% Club</strong>, a global campaign aimed at increasing gender diversity at board and senior management levels</li></ul><p><strong>We reserve the right to close this vacancy early if we receive sufficient applications for the role. Therefore, if you are interested please apply early to avoid disappointment.</strong></p><div></div><p><strong>Reach plc believes diversity brings benefits for our customers, our business and our people. This is why we are committed to being an inclusive employer and encourage applications from all suitable applicants irrespective of background, circumstances, age, disability, gender identity, ethnicity, religion or belief and sexual orientation.</strong></p><img/>\n",
    "\n",
    "\"\"\"\n"
   ]
  },
  {
   "cell_type": "code",
   "execution_count": 16,
   "metadata": {},
   "outputs": [],
   "source": [
    "with open(\"jobIndex.pk1\", \"wb\") as f:\n",
    "    pickle.dump(vectors, f)\n",
    "\n",
    "with open(\"jobId.pk1\", \"wb\") as f:\n",
    "    pickle.dump(df['Id'].to_list(), f)\n"
   ]
  },
  {
   "cell_type": "code",
   "execution_count": 5,
   "metadata": {},
   "outputs": [
    {
     "data": {
      "text/plain": [
       "(3304, 768)"
      ]
     },
     "execution_count": 5,
     "metadata": {},
     "output_type": "execute_result"
    }
   ],
   "source": [
    "vectors.shape"
   ]
  },
  {
   "cell_type": "code",
   "execution_count": 6,
   "metadata": {},
   "outputs": [
    {
     "data": {
      "text/plain": [
       "3304"
      ]
     },
     "execution_count": 6,
     "metadata": {},
     "output_type": "execute_result"
    }
   ],
   "source": [
    "len(df['Id'].to_list())"
   ]
  },
  {
   "cell_type": "code",
   "execution_count": 17,
   "metadata": {},
   "outputs": [],
   "source": [
    "# Deserialize the index using pickle\n",
    "with open('jobIndex.pk1', 'rb') as f:\n",
    "    jobIndex = pickle.load(f)\n",
    "\n",
    "with open('jobId.pk1', 'rb') as f:\n",
    "    jobId = pickle.load(f)"
   ]
  },
  {
   "cell_type": "code",
   "execution_count": 14,
   "metadata": {},
   "outputs": [],
   "source": [
    "# jobId"
   ]
  },
  {
   "cell_type": "code",
   "execution_count": 70,
   "metadata": {},
   "outputs": [
    {
     "data": {
      "text/plain": [
       "(1, 768)"
      ]
     },
     "execution_count": 70,
     "metadata": {},
     "output_type": "execute_result"
    }
   ],
   "source": [
    "# Encode the search query\n",
    "jobSearch_vec = encoder.encode(queryString)\n",
    "\n",
    "# Reshape the vector to match the expected dimensions\n",
    "jobSearch_vec = jobSearch_vec.reshape((1, -1))\n",
    "\n",
    "jobSearch_vec.shape\n"
   ]
  },
  {
   "cell_type": "code",
   "execution_count": 15,
   "metadata": {},
   "outputs": [],
   "source": [
    "# vectors"
   ]
  },
  {
   "cell_type": "code",
   "execution_count": 33,
   "metadata": {},
   "outputs": [],
   "source": [
    "import numpy as np\n",
    "\n",
    "def compute_euclidean_distances(jobIndex, search_vector):\n",
    "    # Ensure jobIndex is a numpy array\n",
    "    jobIndex = np.asarray(jobIndex)\n",
    "    \n",
    "    # Reshape search_vector to (1, n_dimensions) if it’s a 1D array\n",
    "    # search_vector = search_vector.reshape(1, -1)\n",
    "    \n",
    "    # Compute squared differences, then sum and take the square root to get Euclidean distances\n",
    "    distances = np.sqrt(((jobIndex - search_vector) ** 2).sum(axis=1))\n",
    "    \n",
    "    return distances\n"
   ]
  },
  {
   "cell_type": "code",
   "execution_count": 49,
   "metadata": {},
   "outputs": [
    {
     "data": {
      "text/plain": [
       "array([0.9162732 , 0.95496434, 1.0365407 , ..., 0.97386175, 0.9424155 ,\n",
       "       1.1520226 ], dtype=float32)"
      ]
     },
     "execution_count": 49,
     "metadata": {},
     "output_type": "execute_result"
    }
   ],
   "source": [
    "compute_euclidean_distances(jobIndex, jobSearch_vec)"
   ]
  },
  {
   "cell_type": "code",
   "execution_count": 76,
   "metadata": {},
   "outputs": [
    {
     "data": {
      "text/plain": [
       "(1, 768)"
      ]
     },
     "execution_count": 76,
     "metadata": {},
     "output_type": "execute_result"
    }
   ],
   "source": [
    "jobSearch_vec.shape"
   ]
  },
  {
   "cell_type": "code",
   "execution_count": 75,
   "metadata": {},
   "outputs": [],
   "source": [
    "import numpy as np\n",
    "\n",
    "def compute_cosine_similarities(jobIndex, search_vector):\n",
    "    # Ensure jobIndex is a numpy array\n",
    "    jobIndex = np.asarray(jobIndex)\n",
    "    \n",
    "    # Reshape search_vector to (1, n_dimensions) if it’s a 1D array\n",
    "    search_vector = search_vector.reshape(1, -1)\n",
    "    \n",
    "    # Compute the dot product between jobIndex and search_vector\n",
    "    dot_product = np.dot(jobIndex, search_vector.T).flatten()\n",
    "    \n",
    "    # Compute magnitudes of the vectors in jobIndex and the search_vector\n",
    "    jobIndex_magnitudes = np.linalg.norm(jobIndex, axis=1)\n",
    "    search_vector_magnitude = np.linalg.norm(search_vector)\n",
    "    \n",
    "    # Compute cosine similarities by dividing the dot product by magnitudes\n",
    "    cosine_similarities = dot_product / (jobIndex_magnitudes * search_vector_magnitude)\n",
    "    \n",
    "    return cosine_similarities\n"
   ]
  },
  {
   "cell_type": "code",
   "execution_count": 77,
   "metadata": {},
   "outputs": [
    {
     "data": {
      "text/plain": [
       "(3304,)"
      ]
     },
     "execution_count": 77,
     "metadata": {},
     "output_type": "execute_result"
    }
   ],
   "source": [
    "final = compute_cosine_similarities(jobIndex, jobSearch_vec)\n",
    "final.shape"
   ]
  },
  {
   "cell_type": "code",
   "execution_count": 82,
   "metadata": {},
   "outputs": [],
   "source": [
    "def get_n_max_indices(arr, n):\n",
    "    # Ensure n does not exceed the array size\n",
    "    if n > arr.size:\n",
    "        raise ValueError(\"n cannot be greater than the number of elements in the array.\")\n",
    "    \n",
    "    # Use argsort to get indices of sorted elements, take last n for largest elements\n",
    "    max_indices = np.argsort(arr)[-n:][::-1]\n",
    "    \n",
    "    return max_indices\n",
    "position = get_n_max_indices(final, 11)"
   ]
  },
  {
   "cell_type": "code",
   "execution_count": 83,
   "metadata": {},
   "outputs": [
    {
     "data": {
      "text/plain": [
       "[1944600,\n",
       " 1940167,\n",
       " 1934466,\n",
       " 1940232,\n",
       " 1931818,\n",
       " 1938169,\n",
       " 1938915,\n",
       " 1930821,\n",
       " 1932807,\n",
       " 1935444,\n",
       " 1927003]"
      ]
     },
     "execution_count": 83,
     "metadata": {},
     "output_type": "execute_result"
    }
   ],
   "source": [
    "def get_values_from_indices(values_list, indices_array):\n",
    "    # Convert the list to a numpy array if not already\n",
    "    values_array = np.array(values_list)\n",
    "    \n",
    "    # Use the indices array to retrieve corresponding values\n",
    "    result = values_array[indices_array]\n",
    "    \n",
    "    return result.tolist()  # Convert to list if desired\n",
    "\n",
    "jobPosition = get_values_from_indices(jobId, position)\n",
    "jobPosition"
   ]
  },
  {
   "cell_type": "code",
   "execution_count": 86,
   "metadata": {},
   "outputs": [
    {
     "data": {
      "text/html": [
       "<div>\n",
       "<style scoped>\n",
       "    .dataframe tbody tr th:only-of-type {\n",
       "        vertical-align: middle;\n",
       "    }\n",
       "\n",
       "    .dataframe tbody tr th {\n",
       "        vertical-align: top;\n",
       "    }\n",
       "\n",
       "    .dataframe thead th {\n",
       "        text-align: right;\n",
       "    }\n",
       "</style>\n",
       "<table border=\"1\" class=\"dataframe\">\n",
       "  <thead>\n",
       "    <tr style=\"text-align: right;\">\n",
       "      <th></th>\n",
       "      <th>Id</th>\n",
       "      <th>Title</th>\n",
       "      <th>Description</th>\n",
       "    </tr>\n",
       "  </thead>\n",
       "  <tbody>\n",
       "    <tr>\n",
       "      <th>0</th>\n",
       "      <td>1944600</td>\n",
       "      <td>Social News Reporter</td>\n",
       "      <td>&lt;br/&gt;&lt;br/&gt;&lt;div&gt;Company Description&lt;/div&gt;&lt;p&gt;We ...</td>\n",
       "    </tr>\n",
       "    <tr>\n",
       "      <th>1</th>\n",
       "      <td>1940167</td>\n",
       "      <td>Content/News Editor</td>\n",
       "      <td>&lt;br/&gt;&lt;br/&gt;&lt;div&gt;Company Description&lt;/div&gt;&lt;p&gt;We ...</td>\n",
       "    </tr>\n",
       "    <tr>\n",
       "      <th>2</th>\n",
       "      <td>1934466</td>\n",
       "      <td>Account Executive</td>\n",
       "      <td>&lt;p&gt;Newspack is seeking a full-time account exe...</td>\n",
       "    </tr>\n",
       "    <tr>\n",
       "      <th>3</th>\n",
       "      <td>1940232</td>\n",
       "      <td>Staff Writer</td>\n",
       "      <td>&lt;div&gt;&lt;span&gt;Staff Writer, Nice News&lt;/span&gt;&lt;/div...</td>\n",
       "    </tr>\n",
       "    <tr>\n",
       "      <th>4</th>\n",
       "      <td>1931818</td>\n",
       "      <td>Paid Social Media Manager</td>\n",
       "      <td>&lt;p&gt;&lt;br&gt;&lt;br&gt;&lt;/p&gt;\\n&lt;div class=\"h3\"&gt;Company Descr...</td>\n",
       "    </tr>\n",
       "    <tr>\n",
       "      <th>5</th>\n",
       "      <td>1938169</td>\n",
       "      <td>Lead Product Designer</td>\n",
       "      <td>&lt;p&gt;&lt;strong&gt;Please note:  We will be accepting ...</td>\n",
       "    </tr>\n",
       "    <tr>\n",
       "      <th>6</th>\n",
       "      <td>1938915</td>\n",
       "      <td>Designer</td>\n",
       "      <td>&lt;br/&gt;&lt;br/&gt;&lt;div&gt;Company Description&lt;/div&gt;&lt;p&gt;&lt;em...</td>\n",
       "    </tr>\n",
       "    <tr>\n",
       "      <th>7</th>\n",
       "      <td>1930821</td>\n",
       "      <td>Designer</td>\n",
       "      <td>&lt;br&gt;&lt;br&gt;&lt;div class=\"h3\"&gt;Company Description&lt;/d...</td>\n",
       "    </tr>\n",
       "    <tr>\n",
       "      <th>8</th>\n",
       "      <td>1932807</td>\n",
       "      <td>Content Editor, Personal Finance</td>\n",
       "      <td>&lt;div class='\"content-intro\"'&gt;&lt;p&gt;&lt;strong&gt;WHO AR...</td>\n",
       "    </tr>\n",
       "    <tr>\n",
       "      <th>9</th>\n",
       "      <td>1935444</td>\n",
       "      <td>Content Marketing Specialist</td>\n",
       "      <td>&lt;div class='\"content-intro\"'&gt;&lt;p&gt;&lt;strong&gt;7shift...</td>\n",
       "    </tr>\n",
       "    <tr>\n",
       "      <th>10</th>\n",
       "      <td>1927003</td>\n",
       "      <td>Freelance YouTube &amp; Streaming News Writer</td>\n",
       "      <td>&lt;p&gt;The Escapist is looking for new and experie...</td>\n",
       "    </tr>\n",
       "  </tbody>\n",
       "</table>\n",
       "</div>"
      ],
      "text/plain": [
       "         Id                                      Title  \\\n",
       "0   1944600                       Social News Reporter   \n",
       "1   1940167                        Content/News Editor   \n",
       "2   1934466                          Account Executive   \n",
       "3   1940232                               Staff Writer   \n",
       "4   1931818                  Paid Social Media Manager   \n",
       "5   1938169                      Lead Product Designer   \n",
       "6   1938915                                   Designer   \n",
       "7   1930821                                   Designer   \n",
       "8   1932807           Content Editor, Personal Finance   \n",
       "9   1935444               Content Marketing Specialist   \n",
       "10  1927003  Freelance YouTube & Streaming News Writer   \n",
       "\n",
       "                                          Description  \n",
       "0   <br/><br/><div>Company Description</div><p>We ...  \n",
       "1   <br/><br/><div>Company Description</div><p>We ...  \n",
       "2   <p>Newspack is seeking a full-time account exe...  \n",
       "3   <div><span>Staff Writer, Nice News</span></div...  \n",
       "4   <p><br><br></p>\\n<div class=\"h3\">Company Descr...  \n",
       "5   <p><strong>Please note:  We will be accepting ...  \n",
       "6   <br/><br/><div>Company Description</div><p><em...  \n",
       "7   <br><br><div class=\"h3\">Company Description</d...  \n",
       "8   <div class='\"content-intro\"'><p><strong>WHO AR...  \n",
       "9   <div class='\"content-intro\"'><p><strong>7shift...  \n",
       "10  <p>The Escapist is looking for new and experie...  "
      ]
     },
     "execution_count": 86,
     "metadata": {},
     "output_type": "execute_result"
    }
   ],
   "source": [
    "# Filter the DataFrame where 'Id' is in the list\n",
    "filtered_df = df[df['Id'].isin(jobPosition)].copy()  # Make a copy to avoid warnings\n",
    "\n",
    "# Set 'Id' as the index and reindex to match the jobPosition list order\n",
    "filtered_df = filtered_df.set_index('Id').reindex(jobPosition).reset_index()\n",
    "\n",
    "# Display the sorted DataFrame\n",
    "filtered_df.head(11)"
   ]
  },
  {
   "cell_type": "code",
   "execution_count": 93,
   "metadata": {},
   "outputs": [
    {
     "data": {
      "text/plain": [
       "\"<div><p><strong>Hi, We’re AffiniPay! </strong></p><p><span>AffiniPay is a leading fintech company, based out of Austin, Texas. As the market leader in professional services payments and practice management software, AffiniPay’s tech products serve legal, accounting, architectural, engineering and construction firms. AffiniPay has been recognized as one of Inc. 5000’s fastest growing companies in the U.S. for 13 years in a row, and as a result, our teams continue to grow as well! </span></p></div><p>AffiniPay is looking for a professional and highly motivated problem solver to join our Customer Support Team.  As a <strong>Customer Support Specialist for our Payments team</strong>, you will be responsible for ensuring every AffiniPay customer receives consistent and reliable service and support through every interaction.  Our ideal candidate has excellent interpersonal skills and is analytically minded, self-starting, detail-oriented and skilled at solving problems and explaining complex issues.</p><p><strong>What You'll Do:</strong></p><ul><li>Answer inbound customer support calls and provide necessary product troubleshooting and support</li><li>Timely response to incoming customer support inquiries via email, phone, and support ticketing system</li><li>Ensure customers receive consistent and reliable service and support during every interaction </li><li>Stay informed and knowledgeable regarding new product releases</li><li>Document found issues and steps to reproduce</li><li>Investigate issues reported by customers</li><li>Educate our customers on how to use AffiniPay/LawPay/CPACharge products</li></ul><p><strong>About You:</strong></p><ul><li>2+ years experience in a customer support role</li><li>Must have excellent interpersonal and professional communication skills; both written and verbal </li><li>Must be friendly, clear, and a strong speaker</li><li>Maintain a high level of professionalism, integrity, and ethics</li><li>Excellent time management and people skills</li><li>Works well in a team setting</li><li>Must be able to react positively to difficult situations</li><li>Knowledge of Windows, PowerPoint, Word, Excel, or similar programs required</li><li>Must be able to answer inbound support calls daily</li><li>Available for one of the later shifts, Monday-Friday (9:00am-6:00pm CST, 9:30am-6:30pm CST, 10:00am-7:00pm CST)</li></ul><p><strong>Additional Information:</strong></p><p>The base pay range for this position is between $45,000 - $50,000 annually. The salary range for performing this role outside of the US / Austin / California may differ.  AffiniPay is committed to offering competitive, fair and commensurate compensation and has provided an estimated pay range for this role. Actual compensation may vary based on job-related knowledge, skills, experience and education.</p><p>If you're located near our San Diego or Austin offices, we offer hybrid work options.</p><div><p><strong>Our Story</strong></p><p><span>Founded in 2005, AffiniPay’s mission is to build technology products that helps professionals focus on the work they love. As the leader in the professional payments industry, AffiniPay’s products serve legal, accounting, architectural, engineering and construction firms. Our portfolio of software solutions include MyCase (Legal Practice Management Software), CASEpeer (Practice Management for Personal Injury Firms), Docketwise (Immigration &amp; Case Management Software), Soluno (Legal Accounting), and Woodpecker (Legal Document Automation). Our portfolio of payment solutions include LawPay (Legal), AffiniPay for Associations (Associations), CPACharge (Accounting Professionals), and ClientPay (Architect, Engineer, and Construction). AffiniPay’s products serve over one hundred thousand users, and we are noted as one of the fastest growing tech companies in Austin, Texas. We are constantly looking for talent to join our team to continue playing a key part in unlocking our potential. </span></p><p><strong>Diversity, Equity &amp; Inclusion at AffiniPay</strong></p><p>At AffiniPay, we recognize that innovation occurs with a strong team of people who are diverse in background, personality, talent and ideas. Experience comes in many forms and ensuring a diverse and inclusive workplace where we continue to learn from each other is an integral part of our culture. We are committed to creating a welcoming and transparent environment for all that embraces those differences through education, equal access to opportunities and information, inclusionary programs, and community outreach. </p><p><strong>B</strong><strong>enefits that Benefit You! </strong></p><p>As a people first culture, we believe it is important that our teammates are happy, healthy, and productive.  In order to best support that, AffiniPay provides award-winning benefits that can make a difference in your life - right now and for the future.</p><ul><li><strong>All employees receive fully covered medical, dental and vision coverage </strong>- Choose from our 2 available health plans based on what fits you and/or your family!</li><li><strong>Have some fur babies?</strong> - We offer them insurance too!</li><li><strong>RELAX and enjoy your time away with our flexible paid time off policy!</strong> </li><li><strong>We will help you plan for your future</strong> - 401K, or RRSP if in Canada, with a company match</li><li><strong>Competitive compensation</strong> packages that include mid-year and end-of-year bonuses and equity options for all full-time employees</li><li><strong>Health Wellness Program</strong> that includes nutrition consultations, mental health apps, and access to discounted memberships</li><li><strong>Have plans to grow your family?</strong> - Parental resources, including 16 weeks of paid time off for primary caregivers</li><li><strong>Professional development opportunities</strong> including mentorships, leadership programs and our AffiniPayU courses</li><li><strong>We believe it is important to give back with our </strong>Matching Gift Program and organized activities focused on donations, volunteerism and supporting the local communities throughout the country</li><li><strong>D&amp;I initiatives</strong> provide educational opportunities regarding multicultural issues, tolerance, and celebrating diversity among our entire staff</li><li><strong>An incredible, in-office experience at our headquarters in Austin and San Diego</strong> including free lunch delivery, a fully stocked kitchen, and some “sweet” surprises for those afternoon pick-me-ups</li></ul><p><span><strong><span>Security Advisory</span></strong></span></p><p><span>Our hiring teams at AffiniPay are dedicated to recruiting top talent that share our passion for serving the professional services industry through innovative financial technology.  As such, our Talent Acquisition Team only follows legitimate hiring practices.  We will always communicate with our candidates using emails with the AffiniPay domain and will never ask for sensitive/personal data during the application process.  All interviews take place over phone call, Zoom/Google Meet or in person.  All offers are communicated verbally by our Talent Acquisition Specialists with a written offer letter as a follow up.  </span></p></div><img/>\""
      ]
     },
     "execution_count": 93,
     "metadata": {},
     "output_type": "execute_result"
    }
   ],
   "source": [
    "import pandas as pd\n",
    "\n",
    "test = pd.read_csv(\"filename.csv\")\n",
    "test['Description'][407]"
   ]
  },
  {
   "cell_type": "code",
   "execution_count": 98,
   "metadata": {},
   "outputs": [],
   "source": [
    "ecn = encoder.encode(test['Description'][407])"
   ]
  },
  {
   "cell_type": "code",
   "execution_count": 99,
   "metadata": {},
   "outputs": [
    {
     "data": {
      "text/plain": [
       "array([ 2.85578258e-02, -3.45931090e-02, -2.55137663e-02, -4.40168977e-02,\n",
       "       -3.64658087e-02,  2.29998939e-02,  4.71243449e-02, -7.61420950e-02,\n",
       "        5.28456783e-03, -1.73296966e-02,  1.95595454e-02, -2.59622429e-02,\n",
       "        9.03806463e-03,  8.72195587e-02, -4.10612719e-03,  2.68518273e-02,\n",
       "        3.08682304e-02,  7.06295134e-04,  1.63970294e-03,  3.21152546e-02,\n",
       "       -1.01004355e-02, -1.15249455e-02, -2.94184145e-02,  9.79650207e-03,\n",
       "        1.05627598e-02, -3.74813490e-02,  1.38723282e-02,  7.07857758e-02,\n",
       "        7.22186547e-03, -2.22434364e-02,  5.42026646e-02, -5.68137057e-02,\n",
       "       -5.38303293e-02, -2.74264999e-02,  2.20975789e-06, -6.66364953e-02,\n",
       "       -6.54897541e-02,  7.81936944e-03, -6.84158280e-02,  2.44208593e-02,\n",
       "        1.68343559e-02, -2.15061996e-02,  1.04119768e-02,  2.46632379e-02,\n",
       "       -1.01555500e-03,  8.95350575e-02, -1.70541313e-02,  2.47807633e-02,\n",
       "        1.01624288e-01,  2.24236269e-02, -7.56878173e-03,  1.62769649e-02,\n",
       "       -8.81400108e-02, -7.14315102e-03, -6.66622892e-02, -1.06181689e-02,\n",
       "       -1.25647127e-03, -3.21118743e-03,  3.32303979e-02,  2.48875692e-02,\n",
       "        3.84431109e-02, -4.48330631e-03, -2.50883047e-02, -1.21190101e-02,\n",
       "        3.33566926e-02,  4.75673340e-02,  6.80710841e-03, -4.86946478e-02,\n",
       "       -4.73775268e-02, -8.70599896e-02,  4.17847559e-02,  1.21058049e-02,\n",
       "       -7.16791488e-04,  3.56367193e-02,  1.20441988e-02, -3.15193087e-02,\n",
       "       -1.06683290e-02, -2.97990572e-02,  9.99124750e-05, -2.08020359e-02,\n",
       "       -5.27674370e-02,  6.85935095e-02, -4.96258866e-03, -3.57345119e-02,\n",
       "        2.22757738e-02,  4.67462577e-02, -2.70616189e-02, -1.17359580e-02,\n",
       "       -3.83197726e-03, -3.90834324e-02,  9.98431444e-02,  1.93158761e-04,\n",
       "        5.47855087e-02,  4.32221442e-02, -1.42328124e-02, -7.21298456e-02,\n",
       "       -4.32332139e-03, -3.23930196e-02,  5.10304607e-02, -5.36155850e-02,\n",
       "       -3.22898850e-02, -1.53238671e-02,  6.17019944e-02,  4.35757302e-02,\n",
       "       -7.24662887e-03,  2.75137573e-02,  5.67174470e-03, -1.24359131e-03,\n",
       "       -4.61617410e-02,  5.63344394e-04,  3.94192226e-02, -1.53120235e-03,\n",
       "        4.51356126e-03,  2.98060622e-04,  8.02559182e-02,  7.70166842e-03,\n",
       "       -3.43241021e-02,  4.71474510e-03,  4.93066423e-02,  8.85919333e-02,\n",
       "        4.86996360e-02,  1.41826440e-02,  2.16053557e-02, -1.06351348e-02,\n",
       "       -9.01042193e-04, -3.64089236e-02, -5.19898273e-02, -3.27966474e-02,\n",
       "        4.60107392e-03,  1.74629763e-02,  1.28836315e-02, -1.70537680e-02,\n",
       "       -1.23510659e-02, -2.84858793e-02, -1.56687724e-03,  1.06449187e-01,\n",
       "        9.21197236e-03, -1.69107094e-02, -1.88876991e-03, -1.30579630e-02,\n",
       "       -2.98526250e-02,  1.33824470e-02, -4.26608138e-02,  1.00951185e-02,\n",
       "       -4.14870307e-02,  1.47472769e-02,  8.37838743e-03,  5.14460243e-02,\n",
       "       -5.32722846e-03, -3.96428704e-02, -2.94944849e-02, -1.74664557e-02,\n",
       "       -1.96818039e-02, -1.88522916e-02, -1.19311679e-02,  1.67802218e-02,\n",
       "        4.68080714e-02, -8.22443143e-02, -5.23777083e-02,  2.81632412e-02,\n",
       "        2.92864162e-02, -2.14718506e-02,  2.19523236e-02,  3.31901871e-02,\n",
       "       -6.54989183e-02, -3.72467423e-03,  6.28461838e-02,  6.05482720e-02,\n",
       "        4.28465120e-02, -1.91801246e-02, -7.42605515e-03, -2.35187151e-02,\n",
       "        1.90785546e-02,  9.59853455e-03,  7.37129897e-02, -4.81944010e-02,\n",
       "        7.87300873e-04, -5.38649559e-02, -4.26650867e-02,  3.83346677e-02,\n",
       "        7.43173668e-03, -1.15046002e-01, -5.89251751e-03,  1.86866466e-02,\n",
       "       -1.92973241e-02,  4.15806845e-03, -6.45059496e-02,  4.26589213e-02,\n",
       "       -2.71323342e-02, -2.79428139e-02, -2.47418489e-02, -1.82648413e-02,\n",
       "       -5.63032553e-02,  3.03068366e-02,  2.49147136e-03, -8.37677252e-03,\n",
       "       -3.09690880e-03, -2.91982088e-02, -6.97013037e-03, -8.82870238e-03,\n",
       "       -6.12460135e-04, -3.83634977e-02,  2.81546973e-02,  7.26366565e-02,\n",
       "        2.78032180e-02,  4.42207269e-02, -1.13769740e-01, -3.79188769e-02,\n",
       "       -3.29997204e-02,  2.54063383e-02,  1.45105626e-02,  2.32305359e-02,\n",
       "       -1.06849689e-02, -2.34140400e-02, -7.78150605e-03,  3.04645617e-02,\n",
       "        2.46893857e-02,  1.16495881e-02,  1.65283156e-03,  3.50487279e-03,\n",
       "        3.75852850e-03,  2.45392602e-02, -7.11739948e-03, -1.18724508e-02,\n",
       "        6.60438314e-02, -8.99623986e-03, -2.55151931e-02,  3.80945280e-02,\n",
       "       -2.84408703e-02,  1.54590243e-02,  3.08441222e-02,  3.56556140e-02,\n",
       "        2.12030858e-02, -6.88180421e-03, -5.56850480e-03,  2.94274371e-02,\n",
       "        4.21811678e-02,  8.72679278e-02,  2.62293778e-02,  3.49430856e-03,\n",
       "        1.64101236e-02, -3.74720199e-03, -2.01470032e-02,  2.26142593e-02,\n",
       "        3.05900499e-02, -2.23204885e-02, -3.87608223e-02,  2.94134226e-02,\n",
       "        1.37251271e-02,  3.25290635e-02, -8.47447722e-04,  1.64291766e-02,\n",
       "       -1.31997168e-02,  2.43728198e-02, -3.15973535e-02,  4.51254025e-02,\n",
       "       -4.43974473e-02,  9.10146162e-03, -4.93668951e-02, -1.63967386e-02,\n",
       "       -2.76900809e-02, -6.70871064e-02, -1.46794040e-02, -1.56112425e-02,\n",
       "        1.06686419e-02, -6.91297371e-03,  6.81533888e-02,  2.02662647e-02,\n",
       "        4.25484590e-03, -1.34248547e-02,  7.87323155e-03,  4.07696851e-02,\n",
       "       -9.61743761e-03, -2.06254348e-02, -1.98240448e-02,  3.79697159e-02,\n",
       "       -1.92880854e-02,  4.42230254e-02, -7.26723969e-02,  4.52228263e-02,\n",
       "        2.33003721e-02, -7.51655772e-02, -6.36743149e-03,  1.26439473e-02,\n",
       "        1.26234647e-02,  3.37925665e-02,  3.51792686e-02, -7.10924715e-03,\n",
       "        1.57473644e-03, -2.18397900e-02,  6.87812781e-03, -5.56433648e-02,\n",
       "       -3.38542163e-02, -3.50786448e-02,  1.26573369e-02, -2.25298684e-02,\n",
       "       -3.16445231e-02, -4.64625657e-03,  1.75430961e-02,  1.35996966e-02,\n",
       "       -1.12212412e-02, -4.07639705e-02,  3.71914804e-02,  9.45106847e-04,\n",
       "       -2.58596390e-02, -6.76043853e-02, -4.64495160e-02,  2.54311226e-02,\n",
       "       -1.35017821e-04,  3.19889411e-02, -1.53711606e-02,  1.00927672e-03,\n",
       "        1.08739752e-02, -1.50296250e-02,  2.68554650e-02,  2.54032798e-02,\n",
       "       -6.01378381e-02, -1.72420256e-02, -3.11576836e-02,  7.51366541e-02,\n",
       "        1.27573749e-02,  1.30870463e-02, -5.86026087e-02, -5.11559397e-02,\n",
       "       -5.62552363e-03, -4.76562865e-02, -9.49659497e-02,  2.45518680e-03,\n",
       "        1.17809679e-02, -9.10824761e-02,  2.26353644e-03,  5.51101156e-02,\n",
       "       -2.57668067e-02,  2.85920110e-02, -6.14913367e-02,  1.35111716e-02,\n",
       "       -6.03088699e-02, -1.15363024e-01, -1.32093579e-02, -4.40791138e-02,\n",
       "       -3.96023653e-02,  2.37265378e-02, -4.60500158e-02,  5.99931739e-02,\n",
       "       -2.42272522e-02, -2.17389371e-02,  3.07545774e-02,  4.45195623e-02,\n",
       "       -3.04266419e-02, -1.13021918e-02,  1.30379992e-02,  2.85669100e-02,\n",
       "        9.76095349e-03,  1.10806981e-02,  1.97242405e-02, -2.96651516e-02,\n",
       "       -5.39867245e-02,  4.10774685e-02, -6.33545639e-03,  1.21344952e-02,\n",
       "        9.19364765e-03,  2.88725402e-02,  6.00767881e-02, -2.90862769e-02,\n",
       "       -3.79456654e-02, -4.36203443e-02,  1.34865027e-02, -4.68010046e-02,\n",
       "       -2.07503908e-03, -3.57171497e-03,  3.63476388e-02,  2.88962480e-02,\n",
       "       -7.65034347e-04,  3.67708062e-03, -1.67155620e-02,  7.42620276e-03,\n",
       "        2.06925292e-02,  2.97611486e-02, -5.22783957e-02,  3.30299810e-02,\n",
       "        2.90184311e-04,  1.29385134e-02,  4.77083214e-02,  4.00539767e-03,\n",
       "        7.57540092e-02, -1.34205297e-02, -6.54292200e-03, -3.79611515e-02,\n",
       "        2.18256470e-02,  3.38634066e-02,  2.46395525e-02,  2.50746068e-02,\n",
       "       -1.69692133e-02, -2.21589822e-02, -3.87852341e-02, -8.85566603e-03,\n",
       "        7.61448545e-03,  1.38101606e-02, -4.40797303e-03, -1.16901761e-02,\n",
       "        2.42440142e-02, -5.33633679e-02, -6.20472468e-02,  1.89510975e-02,\n",
       "       -2.46160645e-02, -3.35815400e-02,  2.11673211e-02, -5.30863693e-03,\n",
       "       -6.56261109e-03,  3.22423279e-02,  1.80683378e-02, -6.07791469e-02,\n",
       "        1.08728781e-02,  2.60206945e-02, -7.21680839e-03, -4.92251068e-02,\n",
       "       -1.53697692e-02,  2.12655775e-02,  3.21992561e-02, -1.83751434e-02,\n",
       "       -9.00619384e-03,  5.11549674e-02, -8.23119003e-03, -2.32847091e-02,\n",
       "        5.67047531e-03, -6.08091392e-02,  5.67231774e-02, -2.10773237e-02,\n",
       "        4.82311249e-02,  6.50083646e-03, -2.24026274e-02,  8.69318750e-03,\n",
       "        1.49749331e-02, -1.09918372e-04, -8.07130616e-03,  5.53950295e-03,\n",
       "        3.30916680e-02,  5.49261682e-02,  4.49076518e-02, -1.58212092e-02,\n",
       "       -7.39135314e-03,  4.39903550e-02,  3.02752852e-02,  8.31541885e-03,\n",
       "       -5.51567860e-02, -5.35047017e-02,  4.72221151e-02, -2.00984478e-02,\n",
       "       -5.19725159e-02,  2.42637042e-02,  7.53424764e-02,  1.27543304e-02,\n",
       "        5.62088788e-02, -4.14873026e-02, -1.87667762e-03, -4.08294573e-02,\n",
       "       -3.63662886e-03, -3.77757996e-02,  4.90484852e-03, -1.48917912e-02,\n",
       "        7.62589946e-02,  5.76827675e-02, -8.47571157e-03,  2.96732951e-02,\n",
       "        4.93891239e-02,  4.85973768e-02,  1.06629496e-02, -1.51504856e-02,\n",
       "       -4.05609198e-02, -3.57274376e-02,  4.81500104e-02, -4.04834338e-02,\n",
       "       -3.57694961e-02, -2.30984995e-03, -2.02898439e-02,  5.34698879e-03,\n",
       "       -2.35701427e-02, -2.07113810e-02,  1.61162820e-02,  4.68513817e-02,\n",
       "       -9.55127738e-03,  1.34095959e-02, -2.11435203e-02,  6.53864741e-02,\n",
       "        2.00947765e-02,  2.65880376e-02,  7.64322141e-03, -2.38195695e-02,\n",
       "        1.73097178e-02, -2.13919301e-02,  1.83157977e-02, -1.01591088e-02,\n",
       "        3.93304937e-02, -1.00982375e-02, -2.89470926e-02, -9.43392515e-03,\n",
       "       -2.24720351e-02,  2.44623516e-02, -5.04819211e-03, -7.85232242e-03,\n",
       "        1.36026805e-02, -1.73949655e-02,  6.74939295e-03,  6.16527982e-02,\n",
       "       -4.65750089e-03, -1.81462038e-02, -6.19487744e-03, -1.08155506e-02,\n",
       "       -5.11292107e-02,  4.43604924e-02, -3.03878747e-02,  5.77897206e-03,\n",
       "       -4.59041782e-02, -7.43044987e-02,  2.80319564e-02,  3.09467893e-02,\n",
       "       -1.49954278e-02,  2.87842378e-02,  4.44292389e-02, -8.79054442e-02,\n",
       "        1.48001602e-02, -5.29154800e-02,  2.43114475e-02, -2.00361349e-02,\n",
       "        6.70320448e-03, -4.24486957e-02, -5.31523256e-04,  8.44007917e-03,\n",
       "       -5.19982353e-02,  7.15891570e-02, -4.65977825e-02, -4.01727594e-02,\n",
       "       -7.18431175e-02,  5.99802844e-03, -4.99682352e-02, -5.98358130e-03,\n",
       "        3.07018012e-02,  8.94013569e-02, -3.37164104e-02, -5.85394278e-02,\n",
       "       -1.67771690e-02, -1.48480814e-02,  6.34787530e-02,  3.22601758e-03,\n",
       "        5.77254519e-02, -2.04780027e-02, -1.03430655e-02, -1.83090102e-02,\n",
       "        6.91734347e-03, -4.95915487e-03, -1.14319427e-03,  1.04565984e-02,\n",
       "       -3.73209044e-02,  5.40119559e-02,  1.13708607e-03, -6.22631219e-33,\n",
       "        1.36772543e-02, -2.91797556e-02, -1.58641841e-02,  4.38998193e-02,\n",
       "       -1.21153668e-02,  1.88425500e-02, -2.29180027e-02,  2.32266188e-02,\n",
       "        9.36280750e-03, -4.21054289e-02,  7.10391020e-03,  9.70717892e-03,\n",
       "        4.82698195e-02,  2.02127621e-02, -6.80486485e-03,  1.44721828e-02,\n",
       "        2.25984007e-02, -2.01003328e-02, -7.45914318e-03,  6.99720718e-03,\n",
       "       -5.23356870e-02,  3.24391089e-02,  6.95310486e-03, -3.98000665e-02,\n",
       "        7.59208649e-02, -4.55478393e-02, -2.75822226e-02,  2.18692031e-02,\n",
       "       -1.21612633e-02, -1.23963971e-02,  9.53064766e-03, -2.53493171e-02,\n",
       "        1.10743074e-02,  8.27390235e-03,  2.60107312e-02,  2.72154491e-02,\n",
       "       -5.31847365e-02,  3.47960740e-02, -2.24518906e-02,  3.05074453e-02,\n",
       "       -5.59795089e-02, -5.11664338e-02,  3.58889140e-02, -1.58786308e-02,\n",
       "        8.18948168e-03, -1.93778407e-02,  2.49611940e-02, -1.40361600e-02,\n",
       "       -1.34463655e-03, -8.44298825e-02,  3.43629792e-02,  9.43944417e-03,\n",
       "       -6.45306632e-02,  7.19368532e-02, -3.62180248e-02,  6.66958168e-02,\n",
       "       -3.72128631e-03, -1.98847242e-02, -2.86024995e-02,  3.47407088e-02,\n",
       "       -1.71864871e-02, -1.18479338e-02,  2.85523920e-03,  2.05160845e-02,\n",
       "       -4.98114377e-02, -1.54732466e-02, -5.33684678e-02, -1.51712727e-02,\n",
       "        3.05851195e-02,  2.75870934e-02,  7.38915335e-03,  5.73903648e-03,\n",
       "        2.18685511e-02,  8.18803459e-02, -7.20643774e-02, -7.30827972e-02,\n",
       "        1.62726212e-02,  2.34133862e-02,  6.77287132e-02,  3.58955259e-03,\n",
       "        1.93529204e-03, -1.91193055e-02, -5.36915148e-03, -2.37237513e-02,\n",
       "        6.79694787e-02, -7.76011422e-02, -1.28725115e-02, -7.44414423e-03,\n",
       "        9.54530388e-03,  8.70400574e-03, -1.23378076e-01,  5.16508110e-02,\n",
       "       -4.06026393e-02,  3.36360447e-02,  1.70229003e-02, -2.87792124e-02,\n",
       "        8.71599317e-02,  8.35933164e-03, -1.81467552e-03, -3.41512170e-03,\n",
       "        6.56099524e-03,  2.04981584e-03, -2.37030387e-02, -2.46091001e-02,\n",
       "        2.17867214e-02, -1.87301100e-03,  5.19992597e-03,  4.98902388e-02,\n",
       "       -2.66130194e-02,  1.96061395e-02,  5.08959740e-02,  2.65663061e-02,\n",
       "       -3.14832330e-02, -1.39360987e-02, -2.91528702e-02,  5.77915879e-03,\n",
       "        3.48461233e-02, -3.60995606e-02,  5.56183700e-03, -2.12323200e-02,\n",
       "        1.21472431e-02,  9.41539556e-03,  1.09039629e-02,  4.01725946e-03,\n",
       "       -5.76556008e-03,  3.17063369e-02, -3.79433781e-02, -1.95580963e-02,\n",
       "        1.73687935e-02, -1.12582848e-03, -2.06527617e-02, -3.31047885e-02,\n",
       "        2.94550205e-07,  5.46592847e-02,  1.31631875e-02,  1.17260432e-02,\n",
       "        5.81249408e-02,  2.57491134e-02,  1.37825711e-02, -5.99719509e-02,\n",
       "        1.12573886e-02,  2.50143856e-02, -4.94914241e-02,  1.90305635e-02,\n",
       "       -3.22913490e-02,  8.85722879e-03, -6.69690175e-03,  2.30742209e-02,\n",
       "       -3.10228206e-02,  2.34036073e-02, -6.61732107e-02, -5.20514213e-02,\n",
       "        5.89919165e-02,  1.43452108e-01,  3.34004965e-03,  1.15196640e-02,\n",
       "       -2.52474714e-02,  2.69495323e-02, -4.64009531e-02, -3.54585387e-02,\n",
       "       -8.89560021e-03,  3.78567390e-02, -2.25253134e-05,  1.04120281e-03,\n",
       "        5.12074567e-02, -9.70580615e-03,  8.77196714e-02,  1.28140580e-03,\n",
       "       -2.19591241e-02, -2.44502135e-05,  6.01969175e-02,  5.40892258e-02,\n",
       "       -5.88038703e-03,  8.06932803e-03, -5.16781993e-02,  2.57832929e-02,\n",
       "       -6.15169331e-02,  7.04663107e-03, -1.08680362e-02, -1.02280807e-02,\n",
       "       -6.49252832e-02, -2.58549452e-02, -1.58054736e-02,  3.70044261e-02,\n",
       "        4.70187329e-02, -3.92754078e-02,  4.53251461e-03,  9.73677635e-03,\n",
       "       -1.76528301e-02, -3.86286899e-02,  1.07983965e-02,  2.51981597e-02,\n",
       "        3.60433049e-02, -5.75407743e-02, -3.72560024e-02,  3.75950709e-02,\n",
       "        1.87802948e-02,  6.58700243e-02,  2.97217797e-02,  5.91401523e-03,\n",
       "        2.81402993e-34,  1.86966499e-03, -1.01291453e-02,  1.40716191e-02,\n",
       "       -1.81767158e-02,  6.97592448e-04, -1.25862435e-02,  5.23728877e-02,\n",
       "        1.69352256e-02,  1.92789715e-02,  1.63498223e-02, -5.62745333e-02],\n",
       "      dtype=float32)"
      ]
     },
     "execution_count": 99,
     "metadata": {},
     "output_type": "execute_result"
    }
   ],
   "source": [
    "ecn"
   ]
  },
  {
   "cell_type": "code",
   "execution_count": null,
   "metadata": {},
   "outputs": [],
   "source": []
  }
 ],
 "metadata": {
  "kernelspec": {
   "display_name": "jobsite",
   "language": "python",
   "name": "python3"
  },
  "language_info": {
   "codemirror_mode": {
    "name": "ipython",
    "version": 3
   },
   "file_extension": ".py",
   "mimetype": "text/x-python",
   "name": "python",
   "nbconvert_exporter": "python",
   "pygments_lexer": "ipython3",
   "version": "3.9.12"
  }
 },
 "nbformat": 4,
 "nbformat_minor": 2
}
