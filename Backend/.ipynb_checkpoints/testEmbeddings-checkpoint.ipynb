{
 "cells": [
  {
   "cell_type": "code",
   "execution_count": null,
   "metadata": {},
   "outputs": [],
   "source": [
    "import pandas as pd\n",
    "import numpy as np\n",
    "# from utils import search_query\n",
    "\n",
    "from sentence_transformers import SentenceTransformer\n",
    "import faiss\n",
    "import pickle\n",
    "encoder = SentenceTransformer(\"all-mpnet-base-v2\")"
   ]
  },
  {
   "cell_type": "code",
   "execution_count": 1,
   "metadata": {},
   "outputs": [],
   "source": [
    "queryString = \"\"\"\n",
    "\n",
    "<p>Erbis is a software development company with offices in the US, UK, Poland, and Ukraine. The majority of our customers come from the EU and the US. We undertake project implementation on our side or augment the clients' in-house teams. Now, our team consists of 100+ IT professionals with expertise across domains. We help enterprises and SMBs create software solutions that make the world a better place :)<br/><br/>Our client is a top company that offers specialized network and infrastructure services known for their reliability and speed, reaching all major markets worldwide. Their system is spread out widely with numerous access points and relies on smart design approaches for distribution.</p><div><strong>Requirements:</strong></div><ul><li>Demonstrated experience in architecting, developing, and managing customer-facing software systems within the industry</li><li>Proven track record of successfully recruiting and overseeing technical teams, including performance management and engineering staff oversight</li><li>Extensive technical experience throughout the full product and platform lifecycle in an agile setting, with a strong background in building and leading agile teams</li><li>Significant hands-on leadership experience in designing and developing scalable, full-stack software solutions</li><li>Practical programming skills and experience</li><li>Proficiency in data modeling and event processing methodologies, with familiarity in SQL and NoSQL technologies such as PostgreSQL, RabbitMQ, and MongoDB</li><li>Knowledge of various architectural styles, including Service-Oriented Architecture (SOA), API-first approaches, and microservices architectures</li></ul><div><strong>Responsibilities:</strong></div><ul><li>Act as a technical manager with extensive knowledge of distributed systems and software platforms</li><li>Collaborate with technical product managers and other business units to identify market demands, swiftly translating them into actionable software solutions</li><li>Oversee the entire process from concept to deployment, ensuring the delivery of high-quality product features in a dynamic environment</li><li>Work closely with architects and infrastructure and operations teams to design and implement effective solutions</li><li>Take responsibility for the strategic direction by aligning closely with product teams and stakeholders</li><li>Lead initiatives for continuous improvement in software development, testing, and support processes</li><li>Effectively communicate and engage with executive leadership and partner organizations</li><li>Develop and cultivate a high-performing engineering team through regular performance assessments, offering constructive feedback, addressing conflicts, and managing stakeholder relationships</li><li>Foster a collaborative team environment that encourages growth and innovation among team members</li></ul><div><strong>Our perks and benefits:</strong></div><ul><li>Choose your working mode and working hours with 100% remote mode</li><li>Paid Vacation days: 24 working days</li><li>Paid Sick days: 15 working days</li><li>The opportunity to dedicate up to 10% of working hours for self-education and personal development</li><li>Option to cooperate through a B2B contract for flexibility and business autonomy</li></ul><img/>\n",
    "\n",
    "\"\"\""
   ]
  },
  {
   "cell_type": "code",
   "execution_count": 1,
   "metadata": {},
   "outputs": [
    {
     "ename": "NameError",
     "evalue": "name 'pickle' is not defined",
     "output_type": "error",
     "traceback": [
      "\u001b[0;31m---------------------------------------------------------------------------\u001b[0m",
      "\u001b[0;31mNameError\u001b[0m                                 Traceback (most recent call last)",
      "Input \u001b[0;32mIn [1]\u001b[0m, in \u001b[0;36m<cell line: 3>\u001b[0;34m()\u001b[0m\n\u001b[1;32m      1\u001b[0m \u001b[38;5;66;03m# Load the FAISS index\u001b[39;00m\n\u001b[1;32m      2\u001b[0m \u001b[38;5;66;03m# Deserialize the index using pickle\u001b[39;00m\n\u001b[1;32m      3\u001b[0m \u001b[38;5;28;01mwith\u001b[39;00m \u001b[38;5;28mopen\u001b[39m(\u001b[38;5;124m'\u001b[39m\u001b[38;5;124mjobIndex.pk1\u001b[39m\u001b[38;5;124m'\u001b[39m, \u001b[38;5;124m'\u001b[39m\u001b[38;5;124mrb\u001b[39m\u001b[38;5;124m'\u001b[39m) \u001b[38;5;28;01mas\u001b[39;00m f:\n\u001b[0;32m----> 4\u001b[0m     jobIndex \u001b[38;5;241m=\u001b[39m \u001b[43mpickle\u001b[49m\u001b[38;5;241m.\u001b[39mload(f)\n\u001b[1;32m      6\u001b[0m \u001b[38;5;28;01mwith\u001b[39;00m \u001b[38;5;28mopen\u001b[39m(\u001b[38;5;124m'\u001b[39m\u001b[38;5;124mjobId.pk1\u001b[39m\u001b[38;5;124m'\u001b[39m, \u001b[38;5;124m'\u001b[39m\u001b[38;5;124mrb\u001b[39m\u001b[38;5;124m'\u001b[39m) \u001b[38;5;28;01mas\u001b[39;00m f:\n\u001b[1;32m      7\u001b[0m     jobId \u001b[38;5;241m=\u001b[39m pickle\u001b[38;5;241m.\u001b[39mload(f)\n",
      "\u001b[0;31mNameError\u001b[0m: name 'pickle' is not defined"
     ]
    }
   ],
   "source": [
    "# Load the FAISS index\n",
    "# Deserialize the index using pickle\n",
    "with open('jobIndex.pk1', 'rb') as f:\n",
    "    jobIndex = pickle.load(f)\n",
    "\n",
    "with open('jobId.pk1', 'rb') as f:\n",
    "    jobId = pickle.load(f)\n",
    "# Convert to a numpy array with int32 data type\n",
    "\n",
    "jobId = np.array(jobId, dtype=np.int32)\n",
    "# jobIndex = np.array(jobIndex, dtype=np.int32)\n",
    "\n",
    "# Check if all elements are int32\n",
    "all_int32 = all(isinstance(number, np.int32) for number in jobId)\n",
    "print(all_int32)"
   ]
  },
  {
   "cell_type": "code",
   "execution_count": 4,
   "metadata": {},
   "outputs": [
    {
     "data": {
      "text/plain": [
       "(3230, 768)"
      ]
     },
     "execution_count": 4,
     "metadata": {},
     "output_type": "execute_result"
    }
   ],
   "source": [
    "len(jobId)\n",
    "jobIndex.shape"
   ]
  },
  {
   "cell_type": "code",
   "execution_count": 5,
   "metadata": {},
   "outputs": [],
   "source": [
    "# Check the shape\n",
    "# print(jobSearch_vec.shape)  # Should output: (1, 768)\n",
    "index = faiss.IndexIDMap(faiss.IndexFlatL2(768))\n",
    "# LookUpTable = faiss.IndexIDMap(faiss.IndexFlatL2(768))\n",
    "index.add_with_ids(jobIndex, jobId)\n",
    "\n",
    "\n",
    "# Encode the search query\n",
    "jobSearch_vec = encoder.encode(queryString)\n",
    "\n",
    "# Reshape the vector to match the expected dimensions\n",
    "jobSearch_vec = jobSearch_vec.reshape((1, -1))  # Shape: (1, 768)\n",
    "jobSearch_vec.shape\n",
    "\n"
   ]
  },
  {
   "cell_type": "code",
   "execution_count": null,
   "metadata": {},
   "outputs": [],
   "source": [
    "distance, Location = index.search(jobSearch_vec, 10)"
   ]
  },
  {
   "cell_type": "code",
   "execution_count": 23,
   "metadata": {},
   "outputs": [
    {
     "data": {
      "text/plain": [
       "array([[1932373, 1922128, 1921764, 1939886, 1931432]])"
      ]
     },
     "execution_count": 23,
     "metadata": {},
     "output_type": "execute_result"
    }
   ],
   "source": [
    "Location"
   ]
  },
  {
   "cell_type": "code",
   "execution_count": 24,
   "metadata": {},
   "outputs": [],
   "source": [
    "from database import engine\n",
    "# Define your query\n",
    "query = 'SELECT \"Id\", \"Title\", \"Description\" FROM \"Jobs\"'\n",
    "\n",
    "# Read the data into a DataFrame\n",
    "df = pd.read_sql(query, engine)\n",
    "\n"
   ]
  },
  {
   "cell_type": "code",
   "execution_count": 25,
   "metadata": {},
   "outputs": [
    {
     "data": {
      "text/html": [
       "<div>\n",
       "<style scoped>\n",
       "    .dataframe tbody tr th:only-of-type {\n",
       "        vertical-align: middle;\n",
       "    }\n",
       "\n",
       "    .dataframe tbody tr th {\n",
       "        vertical-align: top;\n",
       "    }\n",
       "\n",
       "    .dataframe thead th {\n",
       "        text-align: right;\n",
       "    }\n",
       "</style>\n",
       "<table border=\"1\" class=\"dataframe\">\n",
       "  <thead>\n",
       "    <tr style=\"text-align: right;\">\n",
       "      <th></th>\n",
       "      <th>Id</th>\n",
       "      <th>Title</th>\n",
       "      <th>Description</th>\n",
       "    </tr>\n",
       "  </thead>\n",
       "  <tbody>\n",
       "    <tr>\n",
       "      <th>647</th>\n",
       "      <td>1932373</td>\n",
       "      <td>HR Service Desk Executive</td>\n",
       "      <td>&lt;div class='\"content-intro\"'&gt;&lt;p&gt;At Skillsoft, ...</td>\n",
       "    </tr>\n",
       "    <tr>\n",
       "      <th>777</th>\n",
       "      <td>1931432</td>\n",
       "      <td>Human Resource Systems Analyst</td>\n",
       "      <td>&lt;p&gt;&lt;strong&gt;Harbor&lt;/strong&gt; is seeking a &lt;stron...</td>\n",
       "    </tr>\n",
       "    <tr>\n",
       "      <th>1595</th>\n",
       "      <td>1922128</td>\n",
       "      <td>HR &amp; Recruitment Assistant</td>\n",
       "      <td>&lt;p&gt;&lt;strong&gt;About Us:&lt;/strong&gt; &lt;br&gt;Innovation R...</td>\n",
       "    </tr>\n",
       "    <tr>\n",
       "      <th>1612</th>\n",
       "      <td>1921764</td>\n",
       "      <td>Employee Relations Specialist</td>\n",
       "      <td>&lt;p&gt;BlackStone eIT, a leading computer software...</td>\n",
       "    </tr>\n",
       "    <tr>\n",
       "      <th>2201</th>\n",
       "      <td>1939886</td>\n",
       "      <td>Human Resources Director</td>\n",
       "      <td>&lt;p&gt;We are seeking a dynamic and strategic HR l...</td>\n",
       "    </tr>\n",
       "  </tbody>\n",
       "</table>\n",
       "</div>"
      ],
      "text/plain": [
       "           Id                           Title  \\\n",
       "647   1932373       HR Service Desk Executive   \n",
       "777   1931432  Human Resource Systems Analyst   \n",
       "1595  1922128      HR & Recruitment Assistant   \n",
       "1612  1921764   Employee Relations Specialist   \n",
       "2201  1939886        Human Resources Director   \n",
       "\n",
       "                                            Description  \n",
       "647   <div class='\"content-intro\"'><p>At Skillsoft, ...  \n",
       "777   <p><strong>Harbor</strong> is seeking a <stron...  \n",
       "1595  <p><strong>About Us:</strong> <br>Innovation R...  \n",
       "1612  <p>BlackStone eIT, a leading computer software...  \n",
       "2201  <p>We are seeking a dynamic and strategic HR l...  "
      ]
     },
     "execution_count": 25,
     "metadata": {},
     "output_type": "execute_result"
    }
   ],
   "source": [
    "Location = Location.reshape(-1)\n",
    "# Filter the DataFrame where 'Category' is in the list\n",
    "filtered_df = df[df['Id'].isin(Location)]\n",
    "filtered_df.head(10)"
   ]
  },
  {
   "cell_type": "code",
   "execution_count": null,
   "metadata": {},
   "outputs": [],
   "source": []
  }
 ],
 "metadata": {
  "kernelspec": {
   "display_name": "Python 3 (ipykernel)",
   "language": "python",
   "name": "python3"
  },
  "language_info": {
   "codemirror_mode": {
    "name": "ipython",
    "version": 3
   },
   "file_extension": ".py",
   "mimetype": "text/x-python",
   "name": "python",
   "nbconvert_exporter": "python",
   "pygments_lexer": "ipython3",
   "version": "3.9.12"
  }
 },
 "nbformat": 4,
 "nbformat_minor": 2
}
